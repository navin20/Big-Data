{
 "cells": [
  {
   "cell_type": "code",
   "execution_count": 1,
   "metadata": {
    "_cell_guid": "b1076dfc-b9ad-4769-8c92-a6c4dae69d19",
    "_uuid": "8f2839f25d086af736a60e9eeb907d3b93b6e0e5"
   },
   "outputs": [
    {
     "name": "stdout",
     "output_type": "stream",
     "text": [
      "/kaggle/input/moviesss/Movies_and_TV_5.json\n",
      "/kaggle/input/amazon-fashion/AMAZON_FASHION_5.json\n",
      "/kaggle/input/movielink/reviews_Movies_and_TV.json\n",
      "/kaggle/input/pet-supplies/Pet_Supplies_5.json\n",
      "/kaggle/input/andriod5/Apps_for_Android_5.json\n",
      "/kaggle/input/cellphones/Cell_Phones_and_Accessories_5.json\n",
      "/kaggle/input/workas/index.html\n",
      "/kaggle/input/orgmovie/meta_Movies_and_TV.json\n",
      "/kaggle/input/orgmovie1/Movies_and_TV.json\n"
     ]
    }
   ],
   "source": [
    "# This Python 3 environment comes with many helpful analytics libraries installed\n",
    "# It is defined by the kaggle/python docker image: https://github.com/kaggle/docker-python\n",
    "# For example, here's several helpful packages to load in \n",
    "\n",
    "import numpy as np # linear algebra\n",
    "import pandas as pd # data processing, CSV file I/O (e.g. pd.read_csv)\n",
    "import pandas as pd\n",
    "import numpy as np\n",
    "import matplotlib.pyplot as plt\n",
    "import seaborn as sns\n",
    "from sklearn.feature_extraction.text import CountVectorizer\n",
    "from sklearn.feature_extraction.text import TfidfVectorizer\n",
    "from sklearn.linear_model import LogisticRegression\n",
    "from sklearn.model_selection import train_test_split\n",
    "from sklearn.dummy import DummyClassifier\n",
    "from string import punctuation\n",
    "from sklearn import svm\n",
    "from nltk.corpus import stopwords\n",
    "\n",
    "from nltk.stem import WordNetLemmatizer\n",
    "import nltk\n",
    "from nltk import ngrams\n",
    "from itertools import chain\n",
    "from wordcloud import WordCloud\n",
    "from nltk import classify\n",
    "\n",
    "# Input data files are available in the \"../input/\" directory.\n",
    "# For example, running this (by clicking run or pressing Shift+Enter) will list all files under the input directory\n",
    "\n",
    "import os\n",
    "for dirname, _, filenames in os.walk('/kaggle/input'):\n",
    "    for filename in filenames:\n",
    "        print(os.path.join(dirname, filename))\n",
    "\n",
    "# Any results you write to the current directory are saved as output."
   ]
  },
  {
   "cell_type": "code",
   "execution_count": null,
   "metadata": {},
   "outputs": [],
   "source": [
    "testa = pd.read_csv('https://download.data.world/s/gd4xczpdmoeefoyty32wqh7dqrtold')"
   ]
  },
  {
   "cell_type": "code",
   "execution_count": null,
   "metadata": {},
   "outputs": [],
   "source": [
    "testa.columns"
   ]
  },
  {
   "cell_type": "code",
   "execution_count": null,
   "metadata": {},
   "outputs": [],
   "source": [
    "!wget gs://vms-bda-2/2008.csv"
   ]
  },
  {
   "cell_type": "code",
   "execution_count": null,
   "metadata": {},
   "outputs": [],
   "source": []
  },
  {
   "cell_type": "code",
   "execution_count": null,
   "metadata": {},
   "outputs": [],
   "source": [
    "!wget http://snap.stanford.edu/data/amazon/productGraph/categoryFiles/reviews_Movies_and_TV.json.gz"
   ]
  },
  {
   "cell_type": "code",
   "execution_count": null,
   "metadata": {},
   "outputs": [],
   "source": [
    "import gzip\n",
    "\n",
    "with gzip.open('review_Movies_and_TV.json.gz') as f:\n",
    "\n",
    "    features_train = pd.read_json(f)\n",
    "\n",
    "features_train.head()"
   ]
  },
  {
   "cell_type": "code",
   "execution_count": 2,
   "metadata": {},
   "outputs": [],
   "source": [
    "import pandas as pd\n",
    "\n",
    "\n",
    "\n",
    "# df = pd.read_json(\"/kaggle/input/andriod5/Apps_for_Android_5.json\",lines=True).dropna()\n",
    "# df1 = pd.read_json(\"/kaggle/input/amazon-fashion/AMAZON_FASHION_5.json\",lines=True).dropna()\n",
    "# df2 = pd.read_json(\"/kaggle/input/cellphones/Cell_Phones_and_Accessories_5.json\",lines=True).dropna()\n",
    "# df3 = pd.read_json(\"/kaggle/input/pet-supplies/Pet_Supplies_5.json\",lines=True).dropna()\n",
    "\n",
    "df4 = pd.read_json(\"/kaggle/input/moviesss/Movies_and_TV_5.json\",lines=True).dropna()"
   ]
  },
  {
   "cell_type": "code",
   "execution_count": null,
   "metadata": {},
   "outputs": [],
   "source": [
    "df4"
   ]
  },
  {
   "cell_type": "code",
   "execution_count": 3,
   "metadata": {},
   "outputs": [],
   "source": [
    "\n",
    "df5 = pd.read_json(\"/kaggle/input/orgmovie/meta_Movies_and_TV.json\",lines=True)\n"
   ]
  },
  {
   "cell_type": "code",
   "execution_count": null,
   "metadata": {},
   "outputs": [],
   "source": [
    "df5.head(10)"
   ]
  },
  {
   "cell_type": "code",
   "execution_count": null,
   "metadata": {},
   "outputs": [],
   "source": [
    "df6 = df5[['asin','brand']]"
   ]
  },
  {
   "cell_type": "code",
   "execution_count": 4,
   "metadata": {},
   "outputs": [],
   "source": [
    "# listing= [df4df5]\n",
    "# concating = pd.concat(listing,ignore_index=True,sort=True)\n",
    "concating = pd.merge(df4,df5[['asin','brand']],on='asin')"
   ]
  },
  {
   "cell_type": "code",
   "execution_count": 5,
   "metadata": {},
   "outputs": [],
   "source": [
    "concating = concating.dropna()"
   ]
  },
  {
   "cell_type": "code",
   "execution_count": null,
   "metadata": {},
   "outputs": [],
   "source": [
    "concating.head(500)"
   ]
  },
  {
   "cell_type": "code",
   "execution_count": 6,
   "metadata": {},
   "outputs": [
    {
     "data": {
      "text/plain": [
       "(80000, 6)"
      ]
     },
     "execution_count": 6,
     "metadata": {},
     "output_type": "execute_result"
    }
   ],
   "source": [
    "confirm = concating[['brand','asin','overall','reviewerName','reviewText','summary']].head(80000)\n",
    "# confirm = df[['overall','reviewerName','reviewText','summary']]\n",
    "confirm.shape\n"
   ]
  },
  {
   "cell_type": "code",
   "execution_count": null,
   "metadata": {},
   "outputs": [],
   "source": []
  },
  {
   "cell_type": "code",
   "execution_count": 7,
   "metadata": {},
   "outputs": [],
   "source": [
    "confirm = confirm.replace(np.nan, 'no value', regex=True)"
   ]
  },
  {
   "cell_type": "code",
   "execution_count": null,
   "metadata": {},
   "outputs": [],
   "source": [
    "confirm.head(7000)"
   ]
  },
  {
   "cell_type": "code",
   "execution_count": null,
   "metadata": {},
   "outputs": [],
   "source": [
    "from textblob import TextBlob\n",
    "TextBlob(sentence).sentiment"
   ]
  },
  {
   "cell_type": "code",
   "execution_count": null,
   "metadata": {},
   "outputs": [],
   "source": [
    "unda = list(scora.values())"
   ]
  },
  {
   "cell_type": "code",
   "execution_count": null,
   "metadata": {},
   "outputs": [],
   "source": [
    "type"
   ]
  },
  {
   "cell_type": "code",
   "execution_count": null,
   "metadata": {},
   "outputs": [],
   "source": [
    "y"
   ]
  },
  {
   "cell_type": "code",
   "execution_count": null,
   "metadata": {},
   "outputs": [],
   "source": [
    "confirm['reviewText'][118]"
   ]
  },
  {
   "cell_type": "code",
   "execution_count": null,
   "metadata": {},
   "outputs": [],
   "source": [
    "\n",
    "# yorp = confirm[confirm['overall']==1 ]\n",
    "\n",
    "# yorp['overall'].count()\n",
    "\n",
    "\n",
    "\n",
    "\n",
    "\n",
    "\n",
    "        \n",
    "        \n",
    "    \n",
    "\n",
    "\n",
    "        \n",
    "\n",
    "                          \n",
    "        "
   ]
  },
  {
   "cell_type": "code",
   "execution_count": null,
   "metadata": {},
   "outputs": [],
   "source": [
    "confirm['reviewText'][1]\n"
   ]
  },
  {
   "cell_type": "code",
   "execution_count": null,
   "metadata": {},
   "outputs": [],
   "source": [
    "len(confirm)"
   ]
  },
  {
   "cell_type": "markdown",
   "metadata": {},
   "source": []
  },
  {
   "cell_type": "code",
   "execution_count": null,
   "metadata": {},
   "outputs": [],
   "source": [
    "# scal = confirm[confirm['overall'] != 3]\n",
    "# X = confirm['reviewText']\n",
    "# y_dict = {1:-1, 2:-1,3:0,4:1, 5:1}\n",
    "# y = confirm['overall'].map(y_dict)"
   ]
  },
  {
   "cell_type": "code",
   "execution_count": null,
   "metadata": {},
   "outputs": [],
   "source": []
  },
  {
   "cell_type": "code",
   "execution_count": 8,
   "metadata": {},
   "outputs": [],
   "source": [
    "from nltk.corpus import stopwords\n",
    "stop = stopwords.words('english')\n",
    "confirm['texting'] = \"\"\n",
    "confirm['texting'] = confirm['reviewText'].str.lower().str.split()\n"
   ]
  },
  {
   "cell_type": "code",
   "execution_count": 9,
   "metadata": {},
   "outputs": [],
   "source": [
    "confirm['texting']=confirm['texting'].apply(lambda x: [item for item in x if item not in stop])"
   ]
  },
  {
   "cell_type": "code",
   "execution_count": null,
   "metadata": {},
   "outputs": [],
   "source": [
    "list"
   ]
  },
  {
   "cell_type": "code",
   "execution_count": null,
   "metadata": {},
   "outputs": [],
   "source": [
    "def listToString(s):  \n",
    "    \n",
    "    # initialize an empty string \n",
    "    str1 = \"\"  \n",
    "    \n",
    "    # traverse in the string   \n",
    "    for ele in s:  \n",
    "        str1 += ele   \n",
    "    \n",
    "    # return string   \n",
    "    return str1  "
   ]
  },
  {
   "cell_type": "code",
   "execution_count": null,
   "metadata": {},
   "outputs": [],
   "source": [
    "iluilu = confirm['texting'].tolist()"
   ]
  },
  {
   "cell_type": "code",
   "execution_count": null,
   "metadata": {},
   "outputs": [],
   "source": []
  },
  {
   "cell_type": "code",
   "execution_count": null,
   "metadata": {},
   "outputs": [],
   "source": []
  },
  {
   "cell_type": "code",
   "execution_count": 10,
   "metadata": {},
   "outputs": [],
   "source": [
    "confirm['liststring'] = [' '.join(map(str, l)) for l in confirm['texting']]\n"
   ]
  },
  {
   "cell_type": "code",
   "execution_count": 11,
   "metadata": {},
   "outputs": [
    {
     "name": "stdout",
     "output_type": "stream",
     "text": [
      "[nltk_data] Downloading package vader_lexicon to\n",
      "[nltk_data]     /usr/share/nltk_data...\n",
      "[nltk_data]   Package vader_lexicon is already up-to-date!\n"
     ]
    },
    {
     "name": "stderr",
     "output_type": "stream",
     "text": [
      "/opt/conda/lib/python3.6/site-packages/nltk/twitter/__init__.py:20: UserWarning: The twython library has not been installed. Some functionality from the twitter package will not be available.\n",
      "  warnings.warn(\"The twython library has not been installed. \"\n"
     ]
    }
   ],
   "source": [
    "import nltk\n",
    "nltk.download('vader_lexicon')\n",
    "from nltk.sentiment.vader import SentimentIntensityAnalyzer\n",
    "# sentence = \"bad person good man\"\n",
    "sid = SentimentIntensityAnalyzer()\n",
    "# scora = sid.polarity_scores(confirm['liststring'][0])\n",
    "\n",
    "\n",
    "\n"
   ]
  },
  {
   "cell_type": "code",
   "execution_count": 12,
   "metadata": {},
   "outputs": [],
   "source": [
    "# print(scora)\n",
    "untakshri= confirm.join(confirm['liststring'].apply(lambda x: sid.polarity_scores(x)).apply(pd.Series))"
   ]
  },
  {
   "cell_type": "code",
   "execution_count": null,
   "metadata": {},
   "outputs": [],
   "source": [
    "untakshri.head(6000)"
   ]
  },
  {
   "cell_type": "code",
   "execution_count": null,
   "metadata": {},
   "outputs": [],
   "source": []
  },
  {
   "cell_type": "code",
   "execution_count": null,
   "metadata": {},
   "outputs": [],
   "source": [
    "untakshri = untakshri.drop(columns = ['neg','neu','pos'],axis=1)"
   ]
  },
  {
   "cell_type": "code",
   "execution_count": null,
   "metadata": {},
   "outputs": [],
   "source": [
    "untakshri.head(10)"
   ]
  },
  {
   "cell_type": "code",
   "execution_count": 13,
   "metadata": {},
   "outputs": [],
   "source": [
    "untakshri=untakshri.rename(columns={\"compound\": \"sentimentscore\"})"
   ]
  },
  {
   "cell_type": "code",
   "execution_count": 14,
   "metadata": {},
   "outputs": [
    {
     "data": {
      "text/html": [
       "<div>\n",
       "<style scoped>\n",
       "    .dataframe tbody tr th:only-of-type {\n",
       "        vertical-align: middle;\n",
       "    }\n",
       "\n",
       "    .dataframe tbody tr th {\n",
       "        vertical-align: top;\n",
       "    }\n",
       "\n",
       "    .dataframe thead th {\n",
       "        text-align: right;\n",
       "    }\n",
       "</style>\n",
       "<table border=\"1\" class=\"dataframe\">\n",
       "  <thead>\n",
       "    <tr style=\"text-align: right;\">\n",
       "      <th></th>\n",
       "      <th>brand</th>\n",
       "      <th>asin</th>\n",
       "      <th>overall</th>\n",
       "      <th>reviewerName</th>\n",
       "      <th>reviewText</th>\n",
       "      <th>summary</th>\n",
       "      <th>texting</th>\n",
       "      <th>liststring</th>\n",
       "      <th>neg</th>\n",
       "      <th>neu</th>\n",
       "      <th>pos</th>\n",
       "      <th>sentimentscore</th>\n",
       "    </tr>\n",
       "  </thead>\n",
       "  <tbody>\n",
       "    <tr>\n",
       "      <th>109</th>\n",
       "      <td>Ben Kingsley</td>\n",
       "      <td>0005119367</td>\n",
       "      <td>4</td>\n",
       "      <td>A. Abela</td>\n",
       "      <td>A truly wonderfully made film, mostly accurate...</td>\n",
       "      <td>Wonderful!!!</td>\n",
       "      <td>[truly, wonderfully, made, film,, mostly, accu...</td>\n",
       "      <td>truly wonderfully made film, mostly accurate s...</td>\n",
       "      <td>0.000</td>\n",
       "      <td>0.469</td>\n",
       "      <td>0.531</td>\n",
       "      <td>0.9287</td>\n",
       "    </tr>\n",
       "    <tr>\n",
       "      <th>110</th>\n",
       "      <td>Ben Kingsley</td>\n",
       "      <td>0005119367</td>\n",
       "      <td>5</td>\n",
       "      <td>Aaron D. Koehler</td>\n",
       "      <td>Joseph is amazing story to read and watch.  A ...</td>\n",
       "      <td>Joseph</td>\n",
       "      <td>[joseph, amazing, story, read, watch., person,...</td>\n",
       "      <td>joseph amazing story read watch. person lord's...</td>\n",
       "      <td>0.000</td>\n",
       "      <td>0.711</td>\n",
       "      <td>0.289</td>\n",
       "      <td>0.7579</td>\n",
       "    </tr>\n",
       "    <tr>\n",
       "      <th>111</th>\n",
       "      <td>Ben Kingsley</td>\n",
       "      <td>0005119367</td>\n",
       "      <td>5</td>\n",
       "      <td>A. J. Trivette</td>\n",
       "      <td>This WONDERFUL film is a total treat on every ...</td>\n",
       "      <td>As real as it gets!</td>\n",
       "      <td>[wonderful, film, total, treat, every, level!,...</td>\n",
       "      <td>wonderful film total treat every level! admit ...</td>\n",
       "      <td>0.058</td>\n",
       "      <td>0.711</td>\n",
       "      <td>0.231</td>\n",
       "      <td>0.9860</td>\n",
       "    </tr>\n",
       "    <tr>\n",
       "      <th>112</th>\n",
       "      <td>Ben Kingsley</td>\n",
       "      <td>0005119367</td>\n",
       "      <td>5</td>\n",
       "      <td>Alejandra Vernon \"artist &amp; illustrator\"</td>\n",
       "      <td>Though this interpretation of Joseph's life ha...</td>\n",
       "      <td>a man of character and faith</td>\n",
       "      <td>[though, interpretation, joseph's, life, subst...</td>\n",
       "      <td>though interpretation joseph's life substantia...</td>\n",
       "      <td>0.066</td>\n",
       "      <td>0.727</td>\n",
       "      <td>0.207</td>\n",
       "      <td>0.9776</td>\n",
       "    </tr>\n",
       "    <tr>\n",
       "      <th>113</th>\n",
       "      <td>Ben Kingsley</td>\n",
       "      <td>0005119367</td>\n",
       "      <td>5</td>\n",
       "      <td>Alex</td>\n",
       "      <td>I loved this story about Joseph. It's one of m...</td>\n",
       "      <td>True Faith</td>\n",
       "      <td>[loved, story, joseph., one, favourite, storie...</td>\n",
       "      <td>loved story joseph. one favourite stories old ...</td>\n",
       "      <td>0.050</td>\n",
       "      <td>0.589</td>\n",
       "      <td>0.361</td>\n",
       "      <td>0.9474</td>\n",
       "    </tr>\n",
       "    <tr>\n",
       "      <th>114</th>\n",
       "      <td>Ben Kingsley</td>\n",
       "      <td>0005119367</td>\n",
       "      <td>5</td>\n",
       "      <td>Amazon Customer</td>\n",
       "      <td>gave it as a gift to my sister she love it.  a...</td>\n",
       "      <td>great gift</td>\n",
       "      <td>[gave, gift, sister, love, it., good, telling,...</td>\n",
       "      <td>gave gift sister love it. good telling life jo...</td>\n",
       "      <td>0.000</td>\n",
       "      <td>0.444</td>\n",
       "      <td>0.556</td>\n",
       "      <td>0.8750</td>\n",
       "    </tr>\n",
       "    <tr>\n",
       "      <th>115</th>\n",
       "      <td>Ben Kingsley</td>\n",
       "      <td>0005119367</td>\n",
       "      <td>5</td>\n",
       "      <td>Anony Mous</td>\n",
       "      <td>Magnificent acting, writing, directing, set de...</td>\n",
       "      <td>Magnificent!</td>\n",
       "      <td>[magnificent, acting,, writing,, directing,, s...</td>\n",
       "      <td>magnificent acting, writing, directing, set de...</td>\n",
       "      <td>0.047</td>\n",
       "      <td>0.607</td>\n",
       "      <td>0.346</td>\n",
       "      <td>0.9299</td>\n",
       "    </tr>\n",
       "    <tr>\n",
       "      <th>116</th>\n",
       "      <td>Ben Kingsley</td>\n",
       "      <td>0005119367</td>\n",
       "      <td>5</td>\n",
       "      <td>assurance</td>\n",
       "      <td>to see how they take a name from bible (JOSEPH...</td>\n",
       "      <td>i'm glad i order this dvd</td>\n",
       "      <td>[see, take, name, bible, (joseph), turn, dvd, ...</td>\n",
       "      <td>see take name bible (joseph) turn dvd movie sh...</td>\n",
       "      <td>0.000</td>\n",
       "      <td>1.000</td>\n",
       "      <td>0.000</td>\n",
       "      <td>0.0000</td>\n",
       "    </tr>\n",
       "    <tr>\n",
       "      <th>117</th>\n",
       "      <td>Ben Kingsley</td>\n",
       "      <td>0005119367</td>\n",
       "      <td>5</td>\n",
       "      <td>atobteam \"atobteam\"</td>\n",
       "      <td>One of the best-done Bible movies ever, if not...</td>\n",
       "      <td>Great, and Biblically/theologically accurate!</td>\n",
       "      <td>[one, best-done, bible, movies, ever,, best., ...</td>\n",
       "      <td>one best-done bible movies ever, best. i'm pas...</td>\n",
       "      <td>0.000</td>\n",
       "      <td>0.625</td>\n",
       "      <td>0.375</td>\n",
       "      <td>0.9931</td>\n",
       "    </tr>\n",
       "    <tr>\n",
       "      <th>118</th>\n",
       "      <td>Ben Kingsley</td>\n",
       "      <td>0005119367</td>\n",
       "      <td>5</td>\n",
       "      <td>a viewer \"a viewer\"</td>\n",
       "      <td>When this film debuted in 1994 as a miniseries...</td>\n",
       "      <td>THE BEST BIBLICAL FILM ON JOSEPH!!!</td>\n",
       "      <td>[film, debuted, 1994, miniseries, television,,...</td>\n",
       "      <td>film debuted 1994 miniseries television, time ...</td>\n",
       "      <td>0.168</td>\n",
       "      <td>0.580</td>\n",
       "      <td>0.252</td>\n",
       "      <td>0.8827</td>\n",
       "    </tr>\n",
       "    <tr>\n",
       "      <th>119</th>\n",
       "      <td>Ben Kingsley</td>\n",
       "      <td>0005119367</td>\n",
       "      <td>5</td>\n",
       "      <td>A. Wich</td>\n",
       "      <td>I really enjoyed this movie.  I thought the re...</td>\n",
       "      <td>Great movie</td>\n",
       "      <td>[really, enjoyed, movie., thought, relationshi...</td>\n",
       "      <td>really enjoyed movie. thought relationship pot...</td>\n",
       "      <td>0.300</td>\n",
       "      <td>0.605</td>\n",
       "      <td>0.095</td>\n",
       "      <td>-0.8319</td>\n",
       "    </tr>\n",
       "    <tr>\n",
       "      <th>120</th>\n",
       "      <td>Ben Kingsley</td>\n",
       "      <td>0005119367</td>\n",
       "      <td>5</td>\n",
       "      <td>AzureBlu</td>\n",
       "      <td>I would have to say that this is one of the be...</td>\n",
       "      <td>Awesome!</td>\n",
       "      <td>[would, say, one, best, \"made-for-tv\", (on, tn...</td>\n",
       "      <td>would say one best \"made-for-tv\" (on tnt) bibl...</td>\n",
       "      <td>0.000</td>\n",
       "      <td>0.613</td>\n",
       "      <td>0.387</td>\n",
       "      <td>0.9787</td>\n",
       "    </tr>\n",
       "    <tr>\n",
       "      <th>121</th>\n",
       "      <td>Ben Kingsley</td>\n",
       "      <td>0005119367</td>\n",
       "      <td>5</td>\n",
       "      <td>bb23</td>\n",
       "      <td>I love the story of Joseph and his brothers.  ...</td>\n",
       "      <td>Joseph son of Jacob</td>\n",
       "      <td>[love, story, joseph, brothers., world, might,...</td>\n",
       "      <td>love story joseph brothers. world might say, t...</td>\n",
       "      <td>0.000</td>\n",
       "      <td>0.601</td>\n",
       "      <td>0.399</td>\n",
       "      <td>0.9274</td>\n",
       "    </tr>\n",
       "    <tr>\n",
       "      <th>122</th>\n",
       "      <td>Ben Kingsley</td>\n",
       "      <td>0005119367</td>\n",
       "      <td>5</td>\n",
       "      <td>Beawoman</td>\n",
       "      <td>Ah, my favorite Bible story. After watching th...</td>\n",
       "      <td>Joseph</td>\n",
       "      <td>[ah,, favorite, bible, story., watching, seein...</td>\n",
       "      <td>ah, favorite bible story. watching seeing well...</td>\n",
       "      <td>0.000</td>\n",
       "      <td>0.718</td>\n",
       "      <td>0.282</td>\n",
       "      <td>0.6249</td>\n",
       "    </tr>\n",
       "    <tr>\n",
       "      <th>123</th>\n",
       "      <td>Ben Kingsley</td>\n",
       "      <td>0005119367</td>\n",
       "      <td>5</td>\n",
       "      <td>Bluebell</td>\n",
       "      <td>This movie is very inspirational to me, it hel...</td>\n",
       "      <td>inspirational</td>\n",
       "      <td>[movie, inspirational, me,, helped, trails, tr...</td>\n",
       "      <td>movie inspirational me, helped trails tribulat...</td>\n",
       "      <td>0.000</td>\n",
       "      <td>0.769</td>\n",
       "      <td>0.231</td>\n",
       "      <td>0.5106</td>\n",
       "    </tr>\n",
       "    <tr>\n",
       "      <th>124</th>\n",
       "      <td>Ben Kingsley</td>\n",
       "      <td>0005119367</td>\n",
       "      <td>5</td>\n",
       "      <td>Bryan E. Leed \"Jesus says, 'Go and Sin No More!\"</td>\n",
       "      <td>This movie, JOSEPH, is in-depth and interestin...</td>\n",
       "      <td>Great Telling of the Story of Joseph! Good Act...</td>\n",
       "      <td>[movie,, joseph,, in-depth, interesting., put,...</td>\n",
       "      <td>movie, joseph, in-depth interesting. put surpr...</td>\n",
       "      <td>0.079</td>\n",
       "      <td>0.751</td>\n",
       "      <td>0.170</td>\n",
       "      <td>0.9709</td>\n",
       "    </tr>\n",
       "    <tr>\n",
       "      <th>125</th>\n",
       "      <td>Ben Kingsley</td>\n",
       "      <td>0005119367</td>\n",
       "      <td>5</td>\n",
       "      <td>Charles A Foote</td>\n",
       "      <td>I have watched this movie several times.  I re...</td>\n",
       "      <td>Great movie</td>\n",
       "      <td>[watched, movie, several, times., really, enjo...</td>\n",
       "      <td>watched movie several times. really enjoy it. ...</td>\n",
       "      <td>0.000</td>\n",
       "      <td>0.741</td>\n",
       "      <td>0.259</td>\n",
       "      <td>0.5413</td>\n",
       "    </tr>\n",
       "    <tr>\n",
       "      <th>126</th>\n",
       "      <td>Ben Kingsley</td>\n",
       "      <td>0005119367</td>\n",
       "      <td>5</td>\n",
       "      <td>Christopher Schwinger</td>\n",
       "      <td>A movie never presents a story exactly as you ...</td>\n",
       "      <td>Stimulating</td>\n",
       "      <td>[movie, never, presents, story, exactly, envis...</td>\n",
       "      <td>movie never presents story exactly envisioned ...</td>\n",
       "      <td>0.032</td>\n",
       "      <td>0.772</td>\n",
       "      <td>0.196</td>\n",
       "      <td>0.9693</td>\n",
       "    </tr>\n",
       "    <tr>\n",
       "      <th>127</th>\n",
       "      <td>Ben Kingsley</td>\n",
       "      <td>0005119367</td>\n",
       "      <td>5</td>\n",
       "      <td>C. Meyer</td>\n",
       "      <td>As the title says, unbelievably good!  They in...</td>\n",
       "      <td>Unbelievably Good!!!!</td>\n",
       "      <td>[title, says,, unbelievably, good!, included, ...</td>\n",
       "      <td>title says, unbelievably good! included inform...</td>\n",
       "      <td>0.048</td>\n",
       "      <td>0.635</td>\n",
       "      <td>0.317</td>\n",
       "      <td>0.9783</td>\n",
       "    </tr>\n",
       "    <tr>\n",
       "      <th>128</th>\n",
       "      <td>Ben Kingsley</td>\n",
       "      <td>0005119367</td>\n",
       "      <td>5</td>\n",
       "      <td>Colorgirl \"Spreading color around my world\"</td>\n",
       "      <td>Having just seen this movie for the first time...</td>\n",
       "      <td>AMAZING!</td>\n",
       "      <td>[seen, movie, first, time, last, night,, say, ...</td>\n",
       "      <td>seen movie first time last night, say spite wh...</td>\n",
       "      <td>0.050</td>\n",
       "      <td>0.611</td>\n",
       "      <td>0.339</td>\n",
       "      <td>0.9934</td>\n",
       "    </tr>\n",
       "  </tbody>\n",
       "</table>\n",
       "</div>"
      ],
      "text/plain": [
       "            brand        asin  overall  \\\n",
       "109  Ben Kingsley  0005119367        4   \n",
       "110  Ben Kingsley  0005119367        5   \n",
       "111  Ben Kingsley  0005119367        5   \n",
       "112  Ben Kingsley  0005119367        5   \n",
       "113  Ben Kingsley  0005119367        5   \n",
       "114  Ben Kingsley  0005119367        5   \n",
       "115  Ben Kingsley  0005119367        5   \n",
       "116  Ben Kingsley  0005119367        5   \n",
       "117  Ben Kingsley  0005119367        5   \n",
       "118  Ben Kingsley  0005119367        5   \n",
       "119  Ben Kingsley  0005119367        5   \n",
       "120  Ben Kingsley  0005119367        5   \n",
       "121  Ben Kingsley  0005119367        5   \n",
       "122  Ben Kingsley  0005119367        5   \n",
       "123  Ben Kingsley  0005119367        5   \n",
       "124  Ben Kingsley  0005119367        5   \n",
       "125  Ben Kingsley  0005119367        5   \n",
       "126  Ben Kingsley  0005119367        5   \n",
       "127  Ben Kingsley  0005119367        5   \n",
       "128  Ben Kingsley  0005119367        5   \n",
       "\n",
       "                                         reviewerName  \\\n",
       "109                                          A. Abela   \n",
       "110                                  Aaron D. Koehler   \n",
       "111                                    A. J. Trivette   \n",
       "112           Alejandra Vernon \"artist & illustrator\"   \n",
       "113                                              Alex   \n",
       "114                                   Amazon Customer   \n",
       "115                                        Anony Mous   \n",
       "116                                         assurance   \n",
       "117                               atobteam \"atobteam\"   \n",
       "118                               a viewer \"a viewer\"   \n",
       "119                                           A. Wich   \n",
       "120                                          AzureBlu   \n",
       "121                                              bb23   \n",
       "122                                          Beawoman   \n",
       "123                                          Bluebell   \n",
       "124  Bryan E. Leed \"Jesus says, 'Go and Sin No More!\"   \n",
       "125                                   Charles A Foote   \n",
       "126                             Christopher Schwinger   \n",
       "127                                          C. Meyer   \n",
       "128       Colorgirl \"Spreading color around my world\"   \n",
       "\n",
       "                                            reviewText  \\\n",
       "109  A truly wonderfully made film, mostly accurate...   \n",
       "110  Joseph is amazing story to read and watch.  A ...   \n",
       "111  This WONDERFUL film is a total treat on every ...   \n",
       "112  Though this interpretation of Joseph's life ha...   \n",
       "113  I loved this story about Joseph. It's one of m...   \n",
       "114  gave it as a gift to my sister she love it.  a...   \n",
       "115  Magnificent acting, writing, directing, set de...   \n",
       "116  to see how they take a name from bible (JOSEPH...   \n",
       "117  One of the best-done Bible movies ever, if not...   \n",
       "118  When this film debuted in 1994 as a miniseries...   \n",
       "119  I really enjoyed this movie.  I thought the re...   \n",
       "120  I would have to say that this is one of the be...   \n",
       "121  I love the story of Joseph and his brothers.  ...   \n",
       "122  Ah, my favorite Bible story. After watching th...   \n",
       "123  This movie is very inspirational to me, it hel...   \n",
       "124  This movie, JOSEPH, is in-depth and interestin...   \n",
       "125  I have watched this movie several times.  I re...   \n",
       "126  A movie never presents a story exactly as you ...   \n",
       "127  As the title says, unbelievably good!  They in...   \n",
       "128  Having just seen this movie for the first time...   \n",
       "\n",
       "                                               summary  \\\n",
       "109                                       Wonderful!!!   \n",
       "110                                             Joseph   \n",
       "111                                As real as it gets!   \n",
       "112                       a man of character and faith   \n",
       "113                                         True Faith   \n",
       "114                                         great gift   \n",
       "115                                       Magnificent!   \n",
       "116                          i'm glad i order this dvd   \n",
       "117      Great, and Biblically/theologically accurate!   \n",
       "118                THE BEST BIBLICAL FILM ON JOSEPH!!!   \n",
       "119                                        Great movie   \n",
       "120                                           Awesome!   \n",
       "121                                Joseph son of Jacob   \n",
       "122                                             Joseph   \n",
       "123                                      inspirational   \n",
       "124  Great Telling of the Story of Joseph! Good Act...   \n",
       "125                                        Great movie   \n",
       "126                                        Stimulating   \n",
       "127                              Unbelievably Good!!!!   \n",
       "128                                           AMAZING!   \n",
       "\n",
       "                                               texting  \\\n",
       "109  [truly, wonderfully, made, film,, mostly, accu...   \n",
       "110  [joseph, amazing, story, read, watch., person,...   \n",
       "111  [wonderful, film, total, treat, every, level!,...   \n",
       "112  [though, interpretation, joseph's, life, subst...   \n",
       "113  [loved, story, joseph., one, favourite, storie...   \n",
       "114  [gave, gift, sister, love, it., good, telling,...   \n",
       "115  [magnificent, acting,, writing,, directing,, s...   \n",
       "116  [see, take, name, bible, (joseph), turn, dvd, ...   \n",
       "117  [one, best-done, bible, movies, ever,, best., ...   \n",
       "118  [film, debuted, 1994, miniseries, television,,...   \n",
       "119  [really, enjoyed, movie., thought, relationshi...   \n",
       "120  [would, say, one, best, \"made-for-tv\", (on, tn...   \n",
       "121  [love, story, joseph, brothers., world, might,...   \n",
       "122  [ah,, favorite, bible, story., watching, seein...   \n",
       "123  [movie, inspirational, me,, helped, trails, tr...   \n",
       "124  [movie,, joseph,, in-depth, interesting., put,...   \n",
       "125  [watched, movie, several, times., really, enjo...   \n",
       "126  [movie, never, presents, story, exactly, envis...   \n",
       "127  [title, says,, unbelievably, good!, included, ...   \n",
       "128  [seen, movie, first, time, last, night,, say, ...   \n",
       "\n",
       "                                            liststring    neg    neu    pos  \\\n",
       "109  truly wonderfully made film, mostly accurate s...  0.000  0.469  0.531   \n",
       "110  joseph amazing story read watch. person lord's...  0.000  0.711  0.289   \n",
       "111  wonderful film total treat every level! admit ...  0.058  0.711  0.231   \n",
       "112  though interpretation joseph's life substantia...  0.066  0.727  0.207   \n",
       "113  loved story joseph. one favourite stories old ...  0.050  0.589  0.361   \n",
       "114  gave gift sister love it. good telling life jo...  0.000  0.444  0.556   \n",
       "115  magnificent acting, writing, directing, set de...  0.047  0.607  0.346   \n",
       "116  see take name bible (joseph) turn dvd movie sh...  0.000  1.000  0.000   \n",
       "117  one best-done bible movies ever, best. i'm pas...  0.000  0.625  0.375   \n",
       "118  film debuted 1994 miniseries television, time ...  0.168  0.580  0.252   \n",
       "119  really enjoyed movie. thought relationship pot...  0.300  0.605  0.095   \n",
       "120  would say one best \"made-for-tv\" (on tnt) bibl...  0.000  0.613  0.387   \n",
       "121  love story joseph brothers. world might say, t...  0.000  0.601  0.399   \n",
       "122  ah, favorite bible story. watching seeing well...  0.000  0.718  0.282   \n",
       "123  movie inspirational me, helped trails tribulat...  0.000  0.769  0.231   \n",
       "124  movie, joseph, in-depth interesting. put surpr...  0.079  0.751  0.170   \n",
       "125  watched movie several times. really enjoy it. ...  0.000  0.741  0.259   \n",
       "126  movie never presents story exactly envisioned ...  0.032  0.772  0.196   \n",
       "127  title says, unbelievably good! included inform...  0.048  0.635  0.317   \n",
       "128  seen movie first time last night, say spite wh...  0.050  0.611  0.339   \n",
       "\n",
       "     sentimentscore  \n",
       "109          0.9287  \n",
       "110          0.7579  \n",
       "111          0.9860  \n",
       "112          0.9776  \n",
       "113          0.9474  \n",
       "114          0.8750  \n",
       "115          0.9299  \n",
       "116          0.0000  \n",
       "117          0.9931  \n",
       "118          0.8827  \n",
       "119         -0.8319  \n",
       "120          0.9787  \n",
       "121          0.9274  \n",
       "122          0.6249  \n",
       "123          0.5106  \n",
       "124          0.9709  \n",
       "125          0.5413  \n",
       "126          0.9693  \n",
       "127          0.9783  \n",
       "128          0.9934  "
      ]
     },
     "execution_count": 14,
     "metadata": {},
     "output_type": "execute_result"
    }
   ],
   "source": [
    "untakshri.head(20)\n"
   ]
  },
  {
   "cell_type": "markdown",
   "metadata": {},
   "source": [
    "## the scores are basically compound score based on the text without  stop words for positive it should be more than 0.05 and neutral would be more than -0.05 but less than 0.05 and negative is less than -0.05"
   ]
  },
  {
   "cell_type": "code",
   "execution_count": 15,
   "metadata": {},
   "outputs": [],
   "source": [
    "iot = untakshri['sentimentscore'].values.tolist()"
   ]
  },
  {
   "cell_type": "code",
   "execution_count": 16,
   "metadata": {},
   "outputs": [
    {
     "data": {
      "text/plain": [
       "list"
      ]
     },
     "execution_count": 16,
     "metadata": {},
     "output_type": "execute_result"
    }
   ],
   "source": [
    "type(iot)"
   ]
  },
  {
   "cell_type": "code",
   "execution_count": 17,
   "metadata": {},
   "outputs": [],
   "source": [
    "iott3 = []\n",
    "iott4 = []\n",
    "for iott2 in range(len(iot)):\n",
    "    if iot[iott2]>=0.05:\n",
    "        iott3.append(\"Pos\")\n",
    "        iott4.append(1)\n",
    "    elif iot[iott2]>-0.05 and iot[iott2]<0.05:\n",
    "        iott3.append(\"Neu\")\n",
    "        iott4.append(0)\n",
    "    elif iot[iott2]<=-0.05:\n",
    "        iott3.append(\"Neg\")\n",
    "        iott4.append(-1)\n",
    "        \n",
    "\n",
    "    "
   ]
  },
  {
   "cell_type": "code",
   "execution_count": null,
   "metadata": {},
   "outputs": [],
   "source": [
    "len(iott3)"
   ]
  },
  {
   "cell_type": "code",
   "execution_count": 18,
   "metadata": {},
   "outputs": [],
   "source": [
    "untakshri['sentiscore'] = iott4"
   ]
  },
  {
   "cell_type": "code",
   "execution_count": 19,
   "metadata": {},
   "outputs": [],
   "source": [
    "untakshri['sentiments'] = iott3"
   ]
  },
  {
   "cell_type": "code",
   "execution_count": 20,
   "metadata": {},
   "outputs": [
    {
     "data": {
      "text/html": [
       "<div>\n",
       "<style scoped>\n",
       "    .dataframe tbody tr th:only-of-type {\n",
       "        vertical-align: middle;\n",
       "    }\n",
       "\n",
       "    .dataframe tbody tr th {\n",
       "        vertical-align: top;\n",
       "    }\n",
       "\n",
       "    .dataframe thead th {\n",
       "        text-align: right;\n",
       "    }\n",
       "</style>\n",
       "<table border=\"1\" class=\"dataframe\">\n",
       "  <thead>\n",
       "    <tr style=\"text-align: right;\">\n",
       "      <th></th>\n",
       "      <th>brand</th>\n",
       "      <th>asin</th>\n",
       "      <th>overall</th>\n",
       "      <th>reviewerName</th>\n",
       "      <th>reviewText</th>\n",
       "      <th>summary</th>\n",
       "      <th>texting</th>\n",
       "      <th>liststring</th>\n",
       "      <th>neg</th>\n",
       "      <th>neu</th>\n",
       "      <th>pos</th>\n",
       "      <th>sentimentscore</th>\n",
       "      <th>sentiscore</th>\n",
       "      <th>sentiments</th>\n",
       "    </tr>\n",
       "  </thead>\n",
       "  <tbody>\n",
       "    <tr>\n",
       "      <th>109</th>\n",
       "      <td>Ben Kingsley</td>\n",
       "      <td>0005119367</td>\n",
       "      <td>4</td>\n",
       "      <td>A. Abela</td>\n",
       "      <td>A truly wonderfully made film, mostly accurate...</td>\n",
       "      <td>Wonderful!!!</td>\n",
       "      <td>[truly, wonderfully, made, film,, mostly, accu...</td>\n",
       "      <td>truly wonderfully made film, mostly accurate s...</td>\n",
       "      <td>0.000</td>\n",
       "      <td>0.469</td>\n",
       "      <td>0.531</td>\n",
       "      <td>0.9287</td>\n",
       "      <td>1</td>\n",
       "      <td>Pos</td>\n",
       "    </tr>\n",
       "    <tr>\n",
       "      <th>110</th>\n",
       "      <td>Ben Kingsley</td>\n",
       "      <td>0005119367</td>\n",
       "      <td>5</td>\n",
       "      <td>Aaron D. Koehler</td>\n",
       "      <td>Joseph is amazing story to read and watch.  A ...</td>\n",
       "      <td>Joseph</td>\n",
       "      <td>[joseph, amazing, story, read, watch., person,...</td>\n",
       "      <td>joseph amazing story read watch. person lord's...</td>\n",
       "      <td>0.000</td>\n",
       "      <td>0.711</td>\n",
       "      <td>0.289</td>\n",
       "      <td>0.7579</td>\n",
       "      <td>1</td>\n",
       "      <td>Pos</td>\n",
       "    </tr>\n",
       "    <tr>\n",
       "      <th>111</th>\n",
       "      <td>Ben Kingsley</td>\n",
       "      <td>0005119367</td>\n",
       "      <td>5</td>\n",
       "      <td>A. J. Trivette</td>\n",
       "      <td>This WONDERFUL film is a total treat on every ...</td>\n",
       "      <td>As real as it gets!</td>\n",
       "      <td>[wonderful, film, total, treat, every, level!,...</td>\n",
       "      <td>wonderful film total treat every level! admit ...</td>\n",
       "      <td>0.058</td>\n",
       "      <td>0.711</td>\n",
       "      <td>0.231</td>\n",
       "      <td>0.9860</td>\n",
       "      <td>1</td>\n",
       "      <td>Pos</td>\n",
       "    </tr>\n",
       "    <tr>\n",
       "      <th>112</th>\n",
       "      <td>Ben Kingsley</td>\n",
       "      <td>0005119367</td>\n",
       "      <td>5</td>\n",
       "      <td>Alejandra Vernon \"artist &amp; illustrator\"</td>\n",
       "      <td>Though this interpretation of Joseph's life ha...</td>\n",
       "      <td>a man of character and faith</td>\n",
       "      <td>[though, interpretation, joseph's, life, subst...</td>\n",
       "      <td>though interpretation joseph's life substantia...</td>\n",
       "      <td>0.066</td>\n",
       "      <td>0.727</td>\n",
       "      <td>0.207</td>\n",
       "      <td>0.9776</td>\n",
       "      <td>1</td>\n",
       "      <td>Pos</td>\n",
       "    </tr>\n",
       "    <tr>\n",
       "      <th>113</th>\n",
       "      <td>Ben Kingsley</td>\n",
       "      <td>0005119367</td>\n",
       "      <td>5</td>\n",
       "      <td>Alex</td>\n",
       "      <td>I loved this story about Joseph. It's one of m...</td>\n",
       "      <td>True Faith</td>\n",
       "      <td>[loved, story, joseph., one, favourite, storie...</td>\n",
       "      <td>loved story joseph. one favourite stories old ...</td>\n",
       "      <td>0.050</td>\n",
       "      <td>0.589</td>\n",
       "      <td>0.361</td>\n",
       "      <td>0.9474</td>\n",
       "      <td>1</td>\n",
       "      <td>Pos</td>\n",
       "    </tr>\n",
       "    <tr>\n",
       "      <th>...</th>\n",
       "      <td>...</td>\n",
       "      <td>...</td>\n",
       "      <td>...</td>\n",
       "      <td>...</td>\n",
       "      <td>...</td>\n",
       "      <td>...</td>\n",
       "      <td>...</td>\n",
       "      <td>...</td>\n",
       "      <td>...</td>\n",
       "      <td>...</td>\n",
       "      <td>...</td>\n",
       "      <td>...</td>\n",
       "      <td>...</td>\n",
       "      <td>...</td>\n",
       "    </tr>\n",
       "    <tr>\n",
       "      <th>1979</th>\n",
       "      <td>Arnold Schwarzenegger</td>\n",
       "      <td>0767815335</td>\n",
       "      <td>4</td>\n",
       "      <td>MJV &amp; The Movies</td>\n",
       "      <td>In the 1993 adventure film, LAST ACTION HERO, ...</td>\n",
       "      <td>The bad guys are in there!</td>\n",
       "      <td>[1993, adventure, film,, last, action, hero,, ...</td>\n",
       "      <td>1993 adventure film, last action hero, arnold ...</td>\n",
       "      <td>0.000</td>\n",
       "      <td>0.644</td>\n",
       "      <td>0.356</td>\n",
       "      <td>0.9963</td>\n",
       "      <td>1</td>\n",
       "      <td>Pos</td>\n",
       "    </tr>\n",
       "    <tr>\n",
       "      <th>1980</th>\n",
       "      <td>Arnold Schwarzenegger</td>\n",
       "      <td>0767815335</td>\n",
       "      <td>1</td>\n",
       "      <td>M. Kupper \"hfiuwrhfi\"</td>\n",
       "      <td>This has to be one of the worst movies ever ma...</td>\n",
       "      <td>You reviewers must be kidding...</td>\n",
       "      <td>[one, worst, movies, ever, made., terrible, pl...</td>\n",
       "      <td>one worst movies ever made. terrible plot, co-...</td>\n",
       "      <td>0.275</td>\n",
       "      <td>0.725</td>\n",
       "      <td>0.000</td>\n",
       "      <td>-0.8020</td>\n",
       "      <td>-1</td>\n",
       "      <td>Neg</td>\n",
       "    </tr>\n",
       "    <tr>\n",
       "      <th>1981</th>\n",
       "      <td>Arnold Schwarzenegger</td>\n",
       "      <td>0767815335</td>\n",
       "      <td>5</td>\n",
       "      <td>Mr. P. Power</td>\n",
       "      <td>This Movie Was (as one critic put it)  Passed ...</td>\n",
       "      <td>Great Movie Passed over by Public by with good...</td>\n",
       "      <td>[movie, (as, one, critic, put, it), passed, cr...</td>\n",
       "      <td>movie (as one critic put it) passed crowd went...</td>\n",
       "      <td>0.119</td>\n",
       "      <td>0.629</td>\n",
       "      <td>0.252</td>\n",
       "      <td>0.9466</td>\n",
       "      <td>1</td>\n",
       "      <td>Pos</td>\n",
       "    </tr>\n",
       "    <tr>\n",
       "      <th>1982</th>\n",
       "      <td>Arnold Schwarzenegger</td>\n",
       "      <td>0767815335</td>\n",
       "      <td>4</td>\n",
       "      <td>Muzzlehatch</td>\n",
       "      <td>Like a large percentage of Arnold Schwarzenegg...</td>\n",
       "      <td>Self-reflexive Arnold film isn't as good as it...</td>\n",
       "      <td>[like, large, percentage, arnold, schwarzenegg...</td>\n",
       "      <td>like large percentage arnold schwarzenegger's ...</td>\n",
       "      <td>0.108</td>\n",
       "      <td>0.701</td>\n",
       "      <td>0.190</td>\n",
       "      <td>0.9929</td>\n",
       "      <td>1</td>\n",
       "      <td>Pos</td>\n",
       "    </tr>\n",
       "    <tr>\n",
       "      <th>1983</th>\n",
       "      <td>Arnold Schwarzenegger</td>\n",
       "      <td>0767815335</td>\n",
       "      <td>4</td>\n",
       "      <td>N. Durham \"Big Evil\"</td>\n",
       "      <td>After his monumental success with Terminator 2...</td>\n",
       "      <td>Underrated Schwarzenegger romp</td>\n",
       "      <td>[monumental, success, terminator, 2,, arnold, ...</td>\n",
       "      <td>monumental success terminator 2, arnold schwar...</td>\n",
       "      <td>0.043</td>\n",
       "      <td>0.693</td>\n",
       "      <td>0.265</td>\n",
       "      <td>0.9858</td>\n",
       "      <td>1</td>\n",
       "      <td>Pos</td>\n",
       "    </tr>\n",
       "  </tbody>\n",
       "</table>\n",
       "<p>1675 rows × 14 columns</p>\n",
       "</div>"
      ],
      "text/plain": [
       "                      brand        asin  overall  \\\n",
       "109            Ben Kingsley  0005119367        4   \n",
       "110            Ben Kingsley  0005119367        5   \n",
       "111            Ben Kingsley  0005119367        5   \n",
       "112            Ben Kingsley  0005119367        5   \n",
       "113            Ben Kingsley  0005119367        5   \n",
       "...                     ...         ...      ...   \n",
       "1979  Arnold Schwarzenegger  0767815335        4   \n",
       "1980  Arnold Schwarzenegger  0767815335        1   \n",
       "1981  Arnold Schwarzenegger  0767815335        5   \n",
       "1982  Arnold Schwarzenegger  0767815335        4   \n",
       "1983  Arnold Schwarzenegger  0767815335        4   \n",
       "\n",
       "                                 reviewerName  \\\n",
       "109                                  A. Abela   \n",
       "110                          Aaron D. Koehler   \n",
       "111                            A. J. Trivette   \n",
       "112   Alejandra Vernon \"artist & illustrator\"   \n",
       "113                                      Alex   \n",
       "...                                       ...   \n",
       "1979                         MJV & The Movies   \n",
       "1980                    M. Kupper \"hfiuwrhfi\"   \n",
       "1981                             Mr. P. Power   \n",
       "1982                              Muzzlehatch   \n",
       "1983                     N. Durham \"Big Evil\"   \n",
       "\n",
       "                                             reviewText  \\\n",
       "109   A truly wonderfully made film, mostly accurate...   \n",
       "110   Joseph is amazing story to read and watch.  A ...   \n",
       "111   This WONDERFUL film is a total treat on every ...   \n",
       "112   Though this interpretation of Joseph's life ha...   \n",
       "113   I loved this story about Joseph. It's one of m...   \n",
       "...                                                 ...   \n",
       "1979  In the 1993 adventure film, LAST ACTION HERO, ...   \n",
       "1980  This has to be one of the worst movies ever ma...   \n",
       "1981  This Movie Was (as one critic put it)  Passed ...   \n",
       "1982  Like a large percentage of Arnold Schwarzenegg...   \n",
       "1983  After his monumental success with Terminator 2...   \n",
       "\n",
       "                                                summary  \\\n",
       "109                                        Wonderful!!!   \n",
       "110                                              Joseph   \n",
       "111                                 As real as it gets!   \n",
       "112                        a man of character and faith   \n",
       "113                                          True Faith   \n",
       "...                                                 ...   \n",
       "1979                         The bad guys are in there!   \n",
       "1980                   You reviewers must be kidding...   \n",
       "1981  Great Movie Passed over by Public by with good...   \n",
       "1982  Self-reflexive Arnold film isn't as good as it...   \n",
       "1983                     Underrated Schwarzenegger romp   \n",
       "\n",
       "                                                texting  \\\n",
       "109   [truly, wonderfully, made, film,, mostly, accu...   \n",
       "110   [joseph, amazing, story, read, watch., person,...   \n",
       "111   [wonderful, film, total, treat, every, level!,...   \n",
       "112   [though, interpretation, joseph's, life, subst...   \n",
       "113   [loved, story, joseph., one, favourite, storie...   \n",
       "...                                                 ...   \n",
       "1979  [1993, adventure, film,, last, action, hero,, ...   \n",
       "1980  [one, worst, movies, ever, made., terrible, pl...   \n",
       "1981  [movie, (as, one, critic, put, it), passed, cr...   \n",
       "1982  [like, large, percentage, arnold, schwarzenegg...   \n",
       "1983  [monumental, success, terminator, 2,, arnold, ...   \n",
       "\n",
       "                                             liststring    neg    neu    pos  \\\n",
       "109   truly wonderfully made film, mostly accurate s...  0.000  0.469  0.531   \n",
       "110   joseph amazing story read watch. person lord's...  0.000  0.711  0.289   \n",
       "111   wonderful film total treat every level! admit ...  0.058  0.711  0.231   \n",
       "112   though interpretation joseph's life substantia...  0.066  0.727  0.207   \n",
       "113   loved story joseph. one favourite stories old ...  0.050  0.589  0.361   \n",
       "...                                                 ...    ...    ...    ...   \n",
       "1979  1993 adventure film, last action hero, arnold ...  0.000  0.644  0.356   \n",
       "1980  one worst movies ever made. terrible plot, co-...  0.275  0.725  0.000   \n",
       "1981  movie (as one critic put it) passed crowd went...  0.119  0.629  0.252   \n",
       "1982  like large percentage arnold schwarzenegger's ...  0.108  0.701  0.190   \n",
       "1983  monumental success terminator 2, arnold schwar...  0.043  0.693  0.265   \n",
       "\n",
       "      sentimentscore  sentiscore sentiments  \n",
       "109           0.9287           1        Pos  \n",
       "110           0.7579           1        Pos  \n",
       "111           0.9860           1        Pos  \n",
       "112           0.9776           1        Pos  \n",
       "113           0.9474           1        Pos  \n",
       "...              ...         ...        ...  \n",
       "1979          0.9963           1        Pos  \n",
       "1980         -0.8020          -1        Neg  \n",
       "1981          0.9466           1        Pos  \n",
       "1982          0.9929           1        Pos  \n",
       "1983          0.9858           1        Pos  \n",
       "\n",
       "[1675 rows x 14 columns]"
      ]
     },
     "execution_count": 20,
     "metadata": {},
     "output_type": "execute_result"
    }
   ],
   "source": [
    "untakshri.head(1675)"
   ]
  },
  {
   "cell_type": "code",
   "execution_count": 21,
   "metadata": {},
   "outputs": [],
   "source": [
    "untakshri  = untakshri.drop(columns = ['texting'],axis=1)"
   ]
  },
  {
   "cell_type": "code",
   "execution_count": 22,
   "metadata": {},
   "outputs": [
    {
     "data": {
      "text/html": [
       "<div>\n",
       "<style scoped>\n",
       "    .dataframe tbody tr th:only-of-type {\n",
       "        vertical-align: middle;\n",
       "    }\n",
       "\n",
       "    .dataframe tbody tr th {\n",
       "        vertical-align: top;\n",
       "    }\n",
       "\n",
       "    .dataframe thead th {\n",
       "        text-align: right;\n",
       "    }\n",
       "</style>\n",
       "<table border=\"1\" class=\"dataframe\">\n",
       "  <thead>\n",
       "    <tr style=\"text-align: right;\">\n",
       "      <th></th>\n",
       "      <th>brand</th>\n",
       "      <th>asin</th>\n",
       "      <th>overall</th>\n",
       "      <th>reviewerName</th>\n",
       "      <th>reviewText</th>\n",
       "      <th>summary</th>\n",
       "      <th>liststring</th>\n",
       "      <th>neg</th>\n",
       "      <th>neu</th>\n",
       "      <th>pos</th>\n",
       "      <th>sentimentscore</th>\n",
       "      <th>sentiscore</th>\n",
       "      <th>sentiments</th>\n",
       "    </tr>\n",
       "  </thead>\n",
       "  <tbody>\n",
       "    <tr>\n",
       "      <th>109</th>\n",
       "      <td>Ben Kingsley</td>\n",
       "      <td>0005119367</td>\n",
       "      <td>4</td>\n",
       "      <td>A. Abela</td>\n",
       "      <td>A truly wonderfully made film, mostly accurate...</td>\n",
       "      <td>Wonderful!!!</td>\n",
       "      <td>truly wonderfully made film, mostly accurate s...</td>\n",
       "      <td>0.000</td>\n",
       "      <td>0.469</td>\n",
       "      <td>0.531</td>\n",
       "      <td>0.9287</td>\n",
       "      <td>1</td>\n",
       "      <td>Pos</td>\n",
       "    </tr>\n",
       "    <tr>\n",
       "      <th>110</th>\n",
       "      <td>Ben Kingsley</td>\n",
       "      <td>0005119367</td>\n",
       "      <td>5</td>\n",
       "      <td>Aaron D. Koehler</td>\n",
       "      <td>Joseph is amazing story to read and watch.  A ...</td>\n",
       "      <td>Joseph</td>\n",
       "      <td>joseph amazing story read watch. person lord's...</td>\n",
       "      <td>0.000</td>\n",
       "      <td>0.711</td>\n",
       "      <td>0.289</td>\n",
       "      <td>0.7579</td>\n",
       "      <td>1</td>\n",
       "      <td>Pos</td>\n",
       "    </tr>\n",
       "    <tr>\n",
       "      <th>111</th>\n",
       "      <td>Ben Kingsley</td>\n",
       "      <td>0005119367</td>\n",
       "      <td>5</td>\n",
       "      <td>A. J. Trivette</td>\n",
       "      <td>This WONDERFUL film is a total treat on every ...</td>\n",
       "      <td>As real as it gets!</td>\n",
       "      <td>wonderful film total treat every level! admit ...</td>\n",
       "      <td>0.058</td>\n",
       "      <td>0.711</td>\n",
       "      <td>0.231</td>\n",
       "      <td>0.9860</td>\n",
       "      <td>1</td>\n",
       "      <td>Pos</td>\n",
       "    </tr>\n",
       "    <tr>\n",
       "      <th>112</th>\n",
       "      <td>Ben Kingsley</td>\n",
       "      <td>0005119367</td>\n",
       "      <td>5</td>\n",
       "      <td>Alejandra Vernon \"artist &amp; illustrator\"</td>\n",
       "      <td>Though this interpretation of Joseph's life ha...</td>\n",
       "      <td>a man of character and faith</td>\n",
       "      <td>though interpretation joseph's life substantia...</td>\n",
       "      <td>0.066</td>\n",
       "      <td>0.727</td>\n",
       "      <td>0.207</td>\n",
       "      <td>0.9776</td>\n",
       "      <td>1</td>\n",
       "      <td>Pos</td>\n",
       "    </tr>\n",
       "    <tr>\n",
       "      <th>113</th>\n",
       "      <td>Ben Kingsley</td>\n",
       "      <td>0005119367</td>\n",
       "      <td>5</td>\n",
       "      <td>Alex</td>\n",
       "      <td>I loved this story about Joseph. It's one of m...</td>\n",
       "      <td>True Faith</td>\n",
       "      <td>loved story joseph. one favourite stories old ...</td>\n",
       "      <td>0.050</td>\n",
       "      <td>0.589</td>\n",
       "      <td>0.361</td>\n",
       "      <td>0.9474</td>\n",
       "      <td>1</td>\n",
       "      <td>Pos</td>\n",
       "    </tr>\n",
       "    <tr>\n",
       "      <th>...</th>\n",
       "      <td>...</td>\n",
       "      <td>...</td>\n",
       "      <td>...</td>\n",
       "      <td>...</td>\n",
       "      <td>...</td>\n",
       "      <td>...</td>\n",
       "      <td>...</td>\n",
       "      <td>...</td>\n",
       "      <td>...</td>\n",
       "      <td>...</td>\n",
       "      <td>...</td>\n",
       "      <td>...</td>\n",
       "      <td>...</td>\n",
       "    </tr>\n",
       "    <tr>\n",
       "      <th>82604</th>\n",
       "      <td>Ann Blyth</td>\n",
       "      <td>6302593220</td>\n",
       "      <td>1</td>\n",
       "      <td>A. J. De Koning</td>\n",
       "      <td>What a ridiculous price, I suppose nobody will...</td>\n",
       "      <td>No Subtitles</td>\n",
       "      <td>ridiculous price, suppose nobody buying price....</td>\n",
       "      <td>0.075</td>\n",
       "      <td>0.781</td>\n",
       "      <td>0.145</td>\n",
       "      <td>0.5233</td>\n",
       "      <td>1</td>\n",
       "      <td>Pos</td>\n",
       "    </tr>\n",
       "    <tr>\n",
       "      <th>82605</th>\n",
       "      <td>Ann Blyth</td>\n",
       "      <td>6302593220</td>\n",
       "      <td>2</td>\n",
       "      <td>Anton Beat Riess \"Toni Riess\"</td>\n",
       "      <td>In few words: the film is superb: great art di...</td>\n",
       "      <td>Film good, DVD-R not</td>\n",
       "      <td>words: film superb: great art direction, great...</td>\n",
       "      <td>0.088</td>\n",
       "      <td>0.565</td>\n",
       "      <td>0.347</td>\n",
       "      <td>0.9854</td>\n",
       "      <td>1</td>\n",
       "      <td>Pos</td>\n",
       "    </tr>\n",
       "    <tr>\n",
       "      <th>82606</th>\n",
       "      <td>Ann Blyth</td>\n",
       "      <td>6302593220</td>\n",
       "      <td>5</td>\n",
       "      <td>Beverly J. Scott \"Author and avid reader\"</td>\n",
       "      <td>&amp;quot;The Student Prince&amp;quot; has a captivati...</td>\n",
       "      <td>Glorious Music</td>\n",
       "      <td>&amp;quot;the student prince&amp;quot; captivating sto...</td>\n",
       "      <td>0.279</td>\n",
       "      <td>0.721</td>\n",
       "      <td>0.000</td>\n",
       "      <td>-0.7985</td>\n",
       "      <td>-1</td>\n",
       "      <td>Neg</td>\n",
       "    </tr>\n",
       "    <tr>\n",
       "      <th>82607</th>\n",
       "      <td>Ann Blyth</td>\n",
       "      <td>6302593220</td>\n",
       "      <td>5</td>\n",
       "      <td>CelticWomanFanPiano</td>\n",
       "      <td>Ahh!  I absolutely LOVE this movie.  The peopl...</td>\n",
       "      <td>Beautiful!</td>\n",
       "      <td>ahh! absolutely love movie. people beautiful, ...</td>\n",
       "      <td>0.000</td>\n",
       "      <td>0.502</td>\n",
       "      <td>0.498</td>\n",
       "      <td>0.9888</td>\n",
       "      <td>1</td>\n",
       "      <td>Pos</td>\n",
       "    </tr>\n",
       "    <tr>\n",
       "      <th>82608</th>\n",
       "      <td>Ann Blyth</td>\n",
       "      <td>6302593220</td>\n",
       "      <td>5</td>\n",
       "      <td>Classics Fan</td>\n",
       "      <td>This is a classic that is worth having if you ...</td>\n",
       "      <td>If you like this Genre you will like this.</td>\n",
       "      <td>classic worth love movies era. especially musi...</td>\n",
       "      <td>0.000</td>\n",
       "      <td>0.449</td>\n",
       "      <td>0.551</td>\n",
       "      <td>0.9096</td>\n",
       "      <td>1</td>\n",
       "      <td>Pos</td>\n",
       "    </tr>\n",
       "  </tbody>\n",
       "</table>\n",
       "<p>80000 rows × 13 columns</p>\n",
       "</div>"
      ],
      "text/plain": [
       "              brand        asin  overall  \\\n",
       "109    Ben Kingsley  0005119367        4   \n",
       "110    Ben Kingsley  0005119367        5   \n",
       "111    Ben Kingsley  0005119367        5   \n",
       "112    Ben Kingsley  0005119367        5   \n",
       "113    Ben Kingsley  0005119367        5   \n",
       "...             ...         ...      ...   \n",
       "82604     Ann Blyth  6302593220        1   \n",
       "82605     Ann Blyth  6302593220        2   \n",
       "82606     Ann Blyth  6302593220        5   \n",
       "82607     Ann Blyth  6302593220        5   \n",
       "82608     Ann Blyth  6302593220        5   \n",
       "\n",
       "                                    reviewerName  \\\n",
       "109                                     A. Abela   \n",
       "110                             Aaron D. Koehler   \n",
       "111                               A. J. Trivette   \n",
       "112      Alejandra Vernon \"artist & illustrator\"   \n",
       "113                                         Alex   \n",
       "...                                          ...   \n",
       "82604                            A. J. De Koning   \n",
       "82605              Anton Beat Riess \"Toni Riess\"   \n",
       "82606  Beverly J. Scott \"Author and avid reader\"   \n",
       "82607                        CelticWomanFanPiano   \n",
       "82608                               Classics Fan   \n",
       "\n",
       "                                              reviewText  \\\n",
       "109    A truly wonderfully made film, mostly accurate...   \n",
       "110    Joseph is amazing story to read and watch.  A ...   \n",
       "111    This WONDERFUL film is a total treat on every ...   \n",
       "112    Though this interpretation of Joseph's life ha...   \n",
       "113    I loved this story about Joseph. It's one of m...   \n",
       "...                                                  ...   \n",
       "82604  What a ridiculous price, I suppose nobody will...   \n",
       "82605  In few words: the film is superb: great art di...   \n",
       "82606  &quot;The Student Prince&quot; has a captivati...   \n",
       "82607  Ahh!  I absolutely LOVE this movie.  The peopl...   \n",
       "82608  This is a classic that is worth having if you ...   \n",
       "\n",
       "                                          summary  \\\n",
       "109                                  Wonderful!!!   \n",
       "110                                        Joseph   \n",
       "111                           As real as it gets!   \n",
       "112                  a man of character and faith   \n",
       "113                                    True Faith   \n",
       "...                                           ...   \n",
       "82604                                No Subtitles   \n",
       "82605                        Film good, DVD-R not   \n",
       "82606                              Glorious Music   \n",
       "82607                                  Beautiful!   \n",
       "82608  If you like this Genre you will like this.   \n",
       "\n",
       "                                              liststring    neg    neu    pos  \\\n",
       "109    truly wonderfully made film, mostly accurate s...  0.000  0.469  0.531   \n",
       "110    joseph amazing story read watch. person lord's...  0.000  0.711  0.289   \n",
       "111    wonderful film total treat every level! admit ...  0.058  0.711  0.231   \n",
       "112    though interpretation joseph's life substantia...  0.066  0.727  0.207   \n",
       "113    loved story joseph. one favourite stories old ...  0.050  0.589  0.361   \n",
       "...                                                  ...    ...    ...    ...   \n",
       "82604  ridiculous price, suppose nobody buying price....  0.075  0.781  0.145   \n",
       "82605  words: film superb: great art direction, great...  0.088  0.565  0.347   \n",
       "82606  &quot;the student prince&quot; captivating sto...  0.279  0.721  0.000   \n",
       "82607  ahh! absolutely love movie. people beautiful, ...  0.000  0.502  0.498   \n",
       "82608  classic worth love movies era. especially musi...  0.000  0.449  0.551   \n",
       "\n",
       "       sentimentscore  sentiscore sentiments  \n",
       "109            0.9287           1        Pos  \n",
       "110            0.7579           1        Pos  \n",
       "111            0.9860           1        Pos  \n",
       "112            0.9776           1        Pos  \n",
       "113            0.9474           1        Pos  \n",
       "...               ...         ...        ...  \n",
       "82604          0.5233           1        Pos  \n",
       "82605          0.9854           1        Pos  \n",
       "82606         -0.7985          -1        Neg  \n",
       "82607          0.9888           1        Pos  \n",
       "82608          0.9096           1        Pos  \n",
       "\n",
       "[80000 rows x 13 columns]"
      ]
     },
     "execution_count": 22,
     "metadata": {},
     "output_type": "execute_result"
    }
   ],
   "source": [
    "untakshri"
   ]
  },
  {
   "cell_type": "code",
   "execution_count": null,
   "metadata": {},
   "outputs": [],
   "source": [
    "count = 0\n",
    "# for jumpaiiy in range(len(untakshri)):\n",
    "#     if(untakshri['asin'][jumpaiiy]=='0005019281'):\n",
    "#         count = count+1\n",
    "\n",
    "# for jumpaiiy in range(len(untakshri)):\n",
    "#     if(untakshri['sentiments'][jumpaiiy]=='Neu'):\n",
    "#         print([jumpaiiy])\n",
    "        \n",
    "        \n",
    "#         count = count+1\n",
    "        \n",
    "# print(count)\n",
    "# yui = untakshri[['asin','overall','sentimentscore']]\n",
    "\n",
    "# dones = yui.groupby(['asin']).overall.count().to_frame(\"one\")\n",
    "\n",
    "        \n",
    "print(count)\n",
    "print(dones)\n",
    "# untakshri['asin'][40000]"
   ]
  },
  {
   "cell_type": "code",
   "execution_count": 23,
   "metadata": {},
   "outputs": [],
   "source": [
    "winner = untakshri"
   ]
  },
  {
   "cell_type": "code",
   "execution_count": null,
   "metadata": {},
   "outputs": [],
   "source": []
  },
  {
   "cell_type": "code",
   "execution_count": null,
   "metadata": {},
   "outputs": [],
   "source": [
    "# winner1 = winner.groupby(['asin','overall','sentimentscore']).size().to_frame(\"counts\").reset_index()\n"
   ]
  },
  {
   "cell_type": "code",
   "execution_count": null,
   "metadata": {},
   "outputs": [],
   "source": [
    "winner2 = winner.groupby(['asin']).mean().to_frame(\"ratings\").reset_index()"
   ]
  },
  {
   "cell_type": "code",
   "execution_count": null,
   "metadata": {},
   "outputs": [],
   "source": [
    "# # ikwa = []\n",
    "# # for ikwa1 in range(len(winner2));\n",
    "# ikwa=[]\n",
    "# for ikwa1 in range(len(winner))\n",
    "#     ikwa.append()\n",
    "\n"
   ]
  },
  {
   "cell_type": "code",
   "execution_count": null,
   "metadata": {},
   "outputs": [],
   "source": [
    "\n",
    "winner3 = winner.groupby(['brand'])['sentimentscore'].mean().to_frame(\"trust\").reset_index()"
   ]
  },
  {
   "cell_type": "code",
   "execution_count": null,
   "metadata": {},
   "outputs": [],
   "source": [
    "winner4 = winner3['trust'].tolist()"
   ]
  },
  {
   "cell_type": "code",
   "execution_count": null,
   "metadata": {},
   "outputs": [],
   "source": [
    "winner2 = winner2.rename(columns={\"asin\": \"brandid\"})\n"
   ]
  },
  {
   "cell_type": "code",
   "execution_count": null,
   "metadata": {},
   "outputs": [],
   "source": [
    "winner2['Trust'] = winner4"
   ]
  },
  {
   "cell_type": "code",
   "execution_count": null,
   "metadata": {},
   "outputs": [],
   "source": [
    "winner2.head(20)"
   ]
  },
  {
   "cell_type": "code",
   "execution_count": 24,
   "metadata": {},
   "outputs": [],
   "source": [
    "winner5 = winner.groupby(['brand', 'overall'], as_index=False).mean().groupby('brand')['sentimentscore'].mean().to_frame(\"newwala\").reset_index()"
   ]
  },
  {
   "cell_type": "code",
   "execution_count": 25,
   "metadata": {},
   "outputs": [],
   "source": [
    "winner6 = winner.groupby(['brand', 'sentimentscore'], as_index=False).mean().groupby('brand')['overall'].mean().to_frame(\"newwala1\").reset_index()"
   ]
  },
  {
   "cell_type": "code",
   "execution_count": 26,
   "metadata": {},
   "outputs": [],
   "source": [
    "winner7 = winner5['newwala'].tolist()"
   ]
  },
  {
   "cell_type": "code",
   "execution_count": 27,
   "metadata": {},
   "outputs": [],
   "source": [
    "winner6['sentis'] = winner7"
   ]
  },
  {
   "cell_type": "code",
   "execution_count": 28,
   "metadata": {},
   "outputs": [],
   "source": [
    "winner6 = winner6.rename(columns = {\"newwala1\":\"ratings\",\"asin\":\"productid\"})"
   ]
  },
  {
   "cell_type": "code",
   "execution_count": 29,
   "metadata": {},
   "outputs": [
    {
     "data": {
      "text/html": [
       "<div>\n",
       "<style scoped>\n",
       "    .dataframe tbody tr th:only-of-type {\n",
       "        vertical-align: middle;\n",
       "    }\n",
       "\n",
       "    .dataframe tbody tr th {\n",
       "        vertical-align: top;\n",
       "    }\n",
       "\n",
       "    .dataframe thead th {\n",
       "        text-align: right;\n",
       "    }\n",
       "</style>\n",
       "<table border=\"1\" class=\"dataframe\">\n",
       "  <thead>\n",
       "    <tr style=\"text-align: right;\">\n",
       "      <th></th>\n",
       "      <th>brand</th>\n",
       "      <th>ratings</th>\n",
       "      <th>sentis</th>\n",
       "    </tr>\n",
       "  </thead>\n",
       "  <tbody>\n",
       "    <tr>\n",
       "      <th>0</th>\n",
       "      <td>'Weird Al' Yankovic</td>\n",
       "      <td>4.485000</td>\n",
       "      <td>0.227092</td>\n",
       "    </tr>\n",
       "    <tr>\n",
       "      <th>1</th>\n",
       "      <td>Adrian Pasdar</td>\n",
       "      <td>3.772000</td>\n",
       "      <td>0.328057</td>\n",
       "    </tr>\n",
       "    <tr>\n",
       "      <th>2</th>\n",
       "      <td>Adrienne Barbeau</td>\n",
       "      <td>3.705882</td>\n",
       "      <td>0.248754</td>\n",
       "    </tr>\n",
       "    <tr>\n",
       "      <th>3</th>\n",
       "      <td>Aerosmith</td>\n",
       "      <td>4.444444</td>\n",
       "      <td>0.637857</td>\n",
       "    </tr>\n",
       "    <tr>\n",
       "      <th>4</th>\n",
       "      <td>Aileen Quinn</td>\n",
       "      <td>4.181895</td>\n",
       "      <td>0.671302</td>\n",
       "    </tr>\n",
       "    <tr>\n",
       "      <th>...</th>\n",
       "      <td>...</td>\n",
       "      <td>...</td>\n",
       "      <td>...</td>\n",
       "    </tr>\n",
       "    <tr>\n",
       "      <th>665</th>\n",
       "      <td>Matt Adler</td>\n",
       "      <td>4.882353</td>\n",
       "      <td>0.724628</td>\n",
       "    </tr>\n",
       "    <tr>\n",
       "      <th>666</th>\n",
       "      <td>Matt Mitler</td>\n",
       "      <td>3.428571</td>\n",
       "      <td>0.656421</td>\n",
       "    </tr>\n",
       "    <tr>\n",
       "      <th>667</th>\n",
       "      <td>Matt Raftery</td>\n",
       "      <td>2.461538</td>\n",
       "      <td>-0.106779</td>\n",
       "    </tr>\n",
       "    <tr>\n",
       "      <th>668</th>\n",
       "      <td>Matt Salinger</td>\n",
       "      <td>3.106383</td>\n",
       "      <td>0.631057</td>\n",
       "    </tr>\n",
       "    <tr>\n",
       "      <th>669</th>\n",
       "      <td>Matthew Broderick</td>\n",
       "      <td>4.391386</td>\n",
       "      <td>0.651442</td>\n",
       "    </tr>\n",
       "  </tbody>\n",
       "</table>\n",
       "<p>670 rows × 3 columns</p>\n",
       "</div>"
      ],
      "text/plain": [
       "                   brand   ratings    sentis\n",
       "0    'Weird Al' Yankovic  4.485000  0.227092\n",
       "1          Adrian Pasdar  3.772000  0.328057\n",
       "2       Adrienne Barbeau  3.705882  0.248754\n",
       "3              Aerosmith  4.444444  0.637857\n",
       "4           Aileen Quinn  4.181895  0.671302\n",
       "..                   ...       ...       ...\n",
       "665           Matt Adler  4.882353  0.724628\n",
       "666          Matt Mitler  3.428571  0.656421\n",
       "667         Matt Raftery  2.461538 -0.106779\n",
       "668        Matt Salinger  3.106383  0.631057\n",
       "669    Matthew Broderick  4.391386  0.651442\n",
       "\n",
       "[670 rows x 3 columns]"
      ]
     },
     "execution_count": 29,
     "metadata": {},
     "output_type": "execute_result"
    }
   ],
   "source": [
    "winner6.head(670)"
   ]
  },
  {
   "cell_type": "code",
   "execution_count": 30,
   "metadata": {},
   "outputs": [],
   "source": [
    "dilbar = []\n",
    "\n",
    "for dilbar1 in range(len(winner6)):\n",
    "    if(winner6['ratings'][dilbar1]>=4 and winner6['sentis'][dilbar1]>=0.05):\n",
    "        dilbar.append(1)\n",
    "    elif(winner6['ratings'][dilbar1]>=4 and winner6['sentis'][dilbar1]>-0.05 and winner6['sentis'][dilbar1]<0.05):\n",
    "        dilbar.append(0)\n",
    "    elif(winner6['ratings'][dilbar1]>=4 and winner6['sentis'][dilbar1]<=-0.05):\n",
    "        dilbar.append(0)\n",
    "        \n",
    "    elif(winner6['ratings'][dilbar1]>=3 and winner6['ratings'][dilbar1]<4 and winner6['sentis'][dilbar1]>-0.05 and winner6['sentis'][dilbar1]<0.05):\n",
    "        dilbar.append(1)\n",
    "    elif(winner6['ratings'][dilbar1]>=3 and winner6['ratings'][dilbar1]<4 and winner6['sentis'][dilbar1]>=0.05):\n",
    "        dilbar.append(0)\n",
    "    elif(winner6['ratings'][dilbar1]>=3 and winner6['ratings'][dilbar1]<4  and  winner6['sentis'][dilbar1]<=-0.05):\n",
    "        dilbar.append(0)\n",
    "    elif(winner6['ratings'][dilbar1]>=1 and winner6['ratings'][dilbar1]<3  and  winner6['sentis'][dilbar1]<=-0.05):\n",
    "        dilbar.append(1)\n",
    "    elif(winner6['ratings'][dilbar1]>=1 and winner6['ratings'][dilbar1]<3  and  winner6['sentis'][dilbar1]>-0.05 and winner6['sentis'][dilbar1]<0.05):\n",
    "        dilbar.append(0)\n",
    "    elif(winner6['ratings'][dilbar1]>=1 and winner6['ratings'][dilbar1]<3  and  winner6['sentis'][dilbar1]>=0.05):\n",
    "        dilbar.append(0)\n",
    "    \n",
    "    \n",
    "        \n",
    "   \n",
    "        "
   ]
  },
  {
   "cell_type": "code",
   "execution_count": 31,
   "metadata": {},
   "outputs": [],
   "source": [
    "winner6['trustcheck'] = dilbar"
   ]
  },
  {
   "cell_type": "code",
   "execution_count": 32,
   "metadata": {},
   "outputs": [
    {
     "data": {
      "text/html": [
       "<div>\n",
       "<style scoped>\n",
       "    .dataframe tbody tr th:only-of-type {\n",
       "        vertical-align: middle;\n",
       "    }\n",
       "\n",
       "    .dataframe tbody tr th {\n",
       "        vertical-align: top;\n",
       "    }\n",
       "\n",
       "    .dataframe thead th {\n",
       "        text-align: right;\n",
       "    }\n",
       "</style>\n",
       "<table border=\"1\" class=\"dataframe\">\n",
       "  <thead>\n",
       "    <tr style=\"text-align: right;\">\n",
       "      <th></th>\n",
       "      <th>brand</th>\n",
       "      <th>ratings</th>\n",
       "      <th>sentis</th>\n",
       "      <th>trustcheck</th>\n",
       "    </tr>\n",
       "  </thead>\n",
       "  <tbody>\n",
       "    <tr>\n",
       "      <th>0</th>\n",
       "      <td>'Weird Al' Yankovic</td>\n",
       "      <td>4.485000</td>\n",
       "      <td>0.227092</td>\n",
       "      <td>1</td>\n",
       "    </tr>\n",
       "    <tr>\n",
       "      <th>1</th>\n",
       "      <td>Adrian Pasdar</td>\n",
       "      <td>3.772000</td>\n",
       "      <td>0.328057</td>\n",
       "      <td>0</td>\n",
       "    </tr>\n",
       "    <tr>\n",
       "      <th>2</th>\n",
       "      <td>Adrienne Barbeau</td>\n",
       "      <td>3.705882</td>\n",
       "      <td>0.248754</td>\n",
       "      <td>0</td>\n",
       "    </tr>\n",
       "    <tr>\n",
       "      <th>3</th>\n",
       "      <td>Aerosmith</td>\n",
       "      <td>4.444444</td>\n",
       "      <td>0.637857</td>\n",
       "      <td>1</td>\n",
       "    </tr>\n",
       "    <tr>\n",
       "      <th>4</th>\n",
       "      <td>Aileen Quinn</td>\n",
       "      <td>4.181895</td>\n",
       "      <td>0.671302</td>\n",
       "      <td>1</td>\n",
       "    </tr>\n",
       "    <tr>\n",
       "      <th>...</th>\n",
       "      <td>...</td>\n",
       "      <td>...</td>\n",
       "      <td>...</td>\n",
       "      <td>...</td>\n",
       "    </tr>\n",
       "    <tr>\n",
       "      <th>1060</th>\n",
       "      <td>Yun-Fat Chow</td>\n",
       "      <td>4.500000</td>\n",
       "      <td>0.484674</td>\n",
       "      <td>1</td>\n",
       "    </tr>\n",
       "    <tr>\n",
       "      <th>1061</th>\n",
       "      <td>Yves Montand</td>\n",
       "      <td>4.676829</td>\n",
       "      <td>0.409808</td>\n",
       "      <td>1</td>\n",
       "    </tr>\n",
       "    <tr>\n",
       "      <th>1062</th>\n",
       "      <td>Yvonne Fisher</td>\n",
       "      <td>1.970588</td>\n",
       "      <td>0.177118</td>\n",
       "      <td>0</td>\n",
       "    </tr>\n",
       "    <tr>\n",
       "      <th>1063</th>\n",
       "      <td>Zach Galligan</td>\n",
       "      <td>3.777778</td>\n",
       "      <td>-0.102269</td>\n",
       "      <td>0</td>\n",
       "    </tr>\n",
       "    <tr>\n",
       "      <th>1064</th>\n",
       "      <td>lodie Bouchez</td>\n",
       "      <td>4.500000</td>\n",
       "      <td>0.104028</td>\n",
       "      <td>1</td>\n",
       "    </tr>\n",
       "  </tbody>\n",
       "</table>\n",
       "<p>1065 rows × 4 columns</p>\n",
       "</div>"
      ],
      "text/plain": [
       "                    brand   ratings    sentis  trustcheck\n",
       "0     'Weird Al' Yankovic  4.485000  0.227092           1\n",
       "1           Adrian Pasdar  3.772000  0.328057           0\n",
       "2        Adrienne Barbeau  3.705882  0.248754           0\n",
       "3               Aerosmith  4.444444  0.637857           1\n",
       "4            Aileen Quinn  4.181895  0.671302           1\n",
       "...                   ...       ...       ...         ...\n",
       "1060         Yun-Fat Chow  4.500000  0.484674           1\n",
       "1061         Yves Montand  4.676829  0.409808           1\n",
       "1062        Yvonne Fisher  1.970588  0.177118           0\n",
       "1063        Zach Galligan  3.777778 -0.102269           0\n",
       "1064        lodie Bouchez  4.500000  0.104028           1\n",
       "\n",
       "[1065 rows x 4 columns]"
      ]
     },
     "execution_count": 32,
     "metadata": {},
     "output_type": "execute_result"
    }
   ],
   "source": [
    "winner6"
   ]
  },
  {
   "cell_type": "markdown",
   "metadata": {},
   "source": [
    "## ratings and trust based of each brands and in total 1065 brands"
   ]
  },
  {
   "cell_type": "code",
   "execution_count": 33,
   "metadata": {},
   "outputs": [],
   "source": [
    "winner6 = winner6.drop(columns = [\"sentis\"],axis=1)"
   ]
  },
  {
   "cell_type": "code",
   "execution_count": 34,
   "metadata": {},
   "outputs": [],
   "source": [
    "relevants = winner6"
   ]
  },
  {
   "cell_type": "code",
   "execution_count": 35,
   "metadata": {},
   "outputs": [],
   "source": [
    "relevants = relevants[relevants['trustcheck']==1]"
   ]
  },
  {
   "cell_type": "code",
   "execution_count": 36,
   "metadata": {},
   "outputs": [
    {
     "data": {
      "text/html": [
       "<div>\n",
       "<style scoped>\n",
       "    .dataframe tbody tr th:only-of-type {\n",
       "        vertical-align: middle;\n",
       "    }\n",
       "\n",
       "    .dataframe tbody tr th {\n",
       "        vertical-align: top;\n",
       "    }\n",
       "\n",
       "    .dataframe thead th {\n",
       "        text-align: right;\n",
       "    }\n",
       "</style>\n",
       "<table border=\"1\" class=\"dataframe\">\n",
       "  <thead>\n",
       "    <tr style=\"text-align: right;\">\n",
       "      <th></th>\n",
       "      <th>brand</th>\n",
       "      <th>ratings</th>\n",
       "      <th>trustcheck</th>\n",
       "    </tr>\n",
       "  </thead>\n",
       "  <tbody>\n",
       "    <tr>\n",
       "      <th>0</th>\n",
       "      <td>'Weird Al' Yankovic</td>\n",
       "      <td>4.485000</td>\n",
       "      <td>1</td>\n",
       "    </tr>\n",
       "    <tr>\n",
       "      <th>3</th>\n",
       "      <td>Aerosmith</td>\n",
       "      <td>4.444444</td>\n",
       "      <td>1</td>\n",
       "    </tr>\n",
       "    <tr>\n",
       "      <th>4</th>\n",
       "      <td>Aileen Quinn</td>\n",
       "      <td>4.181895</td>\n",
       "      <td>1</td>\n",
       "    </tr>\n",
       "    <tr>\n",
       "      <th>6</th>\n",
       "      <td>Akira Terao</td>\n",
       "      <td>4.250000</td>\n",
       "      <td>1</td>\n",
       "    </tr>\n",
       "    <tr>\n",
       "      <th>7</th>\n",
       "      <td>Akira Yamauchi</td>\n",
       "      <td>2.800000</td>\n",
       "      <td>1</td>\n",
       "    </tr>\n",
       "    <tr>\n",
       "      <th>...</th>\n",
       "      <td>...</td>\n",
       "      <td>...</td>\n",
       "      <td>...</td>\n",
       "    </tr>\n",
       "    <tr>\n",
       "      <th>1057</th>\n",
       "      <td>Yasuo Yamada</td>\n",
       "      <td>4.554688</td>\n",
       "      <td>1</td>\n",
       "    </tr>\n",
       "    <tr>\n",
       "      <th>1059</th>\n",
       "      <td>Yul Brynner</td>\n",
       "      <td>4.586869</td>\n",
       "      <td>1</td>\n",
       "    </tr>\n",
       "    <tr>\n",
       "      <th>1060</th>\n",
       "      <td>Yun-Fat Chow</td>\n",
       "      <td>4.500000</td>\n",
       "      <td>1</td>\n",
       "    </tr>\n",
       "    <tr>\n",
       "      <th>1061</th>\n",
       "      <td>Yves Montand</td>\n",
       "      <td>4.676829</td>\n",
       "      <td>1</td>\n",
       "    </tr>\n",
       "    <tr>\n",
       "      <th>1064</th>\n",
       "      <td>lodie Bouchez</td>\n",
       "      <td>4.500000</td>\n",
       "      <td>1</td>\n",
       "    </tr>\n",
       "  </tbody>\n",
       "</table>\n",
       "<p>734 rows × 3 columns</p>\n",
       "</div>"
      ],
      "text/plain": [
       "                    brand   ratings  trustcheck\n",
       "0     'Weird Al' Yankovic  4.485000           1\n",
       "3               Aerosmith  4.444444           1\n",
       "4            Aileen Quinn  4.181895           1\n",
       "6             Akira Terao  4.250000           1\n",
       "7          Akira Yamauchi  2.800000           1\n",
       "...                   ...       ...         ...\n",
       "1057         Yasuo Yamada  4.554688           1\n",
       "1059          Yul Brynner  4.586869           1\n",
       "1060         Yun-Fat Chow  4.500000           1\n",
       "1061         Yves Montand  4.676829           1\n",
       "1064        lodie Bouchez  4.500000           1\n",
       "\n",
       "[734 rows x 3 columns]"
      ]
     },
     "execution_count": 36,
     "metadata": {},
     "output_type": "execute_result"
    }
   ],
   "source": [
    "relevants"
   ]
  },
  {
   "cell_type": "markdown",
   "metadata": {},
   "source": [
    "## ratings that are consistents"
   ]
  },
  {
   "cell_type": "code",
   "execution_count": 40,
   "metadata": {},
   "outputs": [],
   "source": [
    "irrelavants = winner6"
   ]
  },
  {
   "cell_type": "code",
   "execution_count": null,
   "metadata": {},
   "outputs": [],
   "source": []
  },
  {
   "cell_type": "code",
   "execution_count": 41,
   "metadata": {},
   "outputs": [],
   "source": [
    "irrelevants = irrelavants[irrelavants['trustcheck']==0]"
   ]
  },
  {
   "cell_type": "code",
   "execution_count": 42,
   "metadata": {},
   "outputs": [
    {
     "data": {
      "text/html": [
       "<div>\n",
       "<style scoped>\n",
       "    .dataframe tbody tr th:only-of-type {\n",
       "        vertical-align: middle;\n",
       "    }\n",
       "\n",
       "    .dataframe tbody tr th {\n",
       "        vertical-align: top;\n",
       "    }\n",
       "\n",
       "    .dataframe thead th {\n",
       "        text-align: right;\n",
       "    }\n",
       "</style>\n",
       "<table border=\"1\" class=\"dataframe\">\n",
       "  <thead>\n",
       "    <tr style=\"text-align: right;\">\n",
       "      <th></th>\n",
       "      <th>brand</th>\n",
       "      <th>ratings</th>\n",
       "      <th>trustcheck</th>\n",
       "    </tr>\n",
       "  </thead>\n",
       "  <tbody>\n",
       "    <tr>\n",
       "      <th>1</th>\n",
       "      <td>Adrian Pasdar</td>\n",
       "      <td>3.772000</td>\n",
       "      <td>0</td>\n",
       "    </tr>\n",
       "    <tr>\n",
       "      <th>2</th>\n",
       "      <td>Adrienne Barbeau</td>\n",
       "      <td>3.705882</td>\n",
       "      <td>0</td>\n",
       "    </tr>\n",
       "    <tr>\n",
       "      <th>5</th>\n",
       "      <td>Akira Kamiya</td>\n",
       "      <td>3.888889</td>\n",
       "      <td>0</td>\n",
       "    </tr>\n",
       "    <tr>\n",
       "      <th>10</th>\n",
       "      <td>Alain Delon</td>\n",
       "      <td>3.757576</td>\n",
       "      <td>0</td>\n",
       "    </tr>\n",
       "    <tr>\n",
       "      <th>15</th>\n",
       "      <td>Alan Ladd</td>\n",
       "      <td>3.888889</td>\n",
       "      <td>0</td>\n",
       "    </tr>\n",
       "    <tr>\n",
       "      <th>...</th>\n",
       "      <td>...</td>\n",
       "      <td>...</td>\n",
       "      <td>...</td>\n",
       "    </tr>\n",
       "    <tr>\n",
       "      <th>1050</th>\n",
       "      <td>Wings Hauser</td>\n",
       "      <td>4.263158</td>\n",
       "      <td>0</td>\n",
       "    </tr>\n",
       "    <tr>\n",
       "      <th>1055</th>\n",
       "      <td>Yan Birch</td>\n",
       "      <td>3.250000</td>\n",
       "      <td>0</td>\n",
       "    </tr>\n",
       "    <tr>\n",
       "      <th>1058</th>\n",
       "      <td>Yoshiko Tanaka</td>\n",
       "      <td>4.875000</td>\n",
       "      <td>0</td>\n",
       "    </tr>\n",
       "    <tr>\n",
       "      <th>1062</th>\n",
       "      <td>Yvonne Fisher</td>\n",
       "      <td>1.970588</td>\n",
       "      <td>0</td>\n",
       "    </tr>\n",
       "    <tr>\n",
       "      <th>1063</th>\n",
       "      <td>Zach Galligan</td>\n",
       "      <td>3.777778</td>\n",
       "      <td>0</td>\n",
       "    </tr>\n",
       "  </tbody>\n",
       "</table>\n",
       "<p>331 rows × 3 columns</p>\n",
       "</div>"
      ],
      "text/plain": [
       "                 brand   ratings  trustcheck\n",
       "1        Adrian Pasdar  3.772000           0\n",
       "2     Adrienne Barbeau  3.705882           0\n",
       "5         Akira Kamiya  3.888889           0\n",
       "10         Alain Delon  3.757576           0\n",
       "15           Alan Ladd  3.888889           0\n",
       "...                ...       ...         ...\n",
       "1050      Wings Hauser  4.263158           0\n",
       "1055         Yan Birch  3.250000           0\n",
       "1058    Yoshiko Tanaka  4.875000           0\n",
       "1062     Yvonne Fisher  1.970588           0\n",
       "1063     Zach Galligan  3.777778           0\n",
       "\n",
       "[331 rows x 3 columns]"
      ]
     },
     "execution_count": 42,
     "metadata": {},
     "output_type": "execute_result"
    }
   ],
   "source": [
    "irrelevants"
   ]
  },
  {
   "cell_type": "markdown",
   "metadata": {},
   "source": [
    "## Rating incosistent where rating doesnot match the sentiment score in terms of positive and negative"
   ]
  },
  {
   "cell_type": "markdown",
   "metadata": {},
   "source": []
  },
  {
   "cell_type": "code",
   "execution_count": 43,
   "metadata": {},
   "outputs": [],
   "source": [
    "relevant1 = relevants[['brand','ratings']]\n",
    "irrevant = irrelevants[['brand','ratings']]"
   ]
  },
  {
   "cell_type": "code",
   "execution_count": 44,
   "metadata": {},
   "outputs": [
    {
     "data": {
      "text/html": [
       "<div>\n",
       "<style scoped>\n",
       "    .dataframe tbody tr th:only-of-type {\n",
       "        vertical-align: middle;\n",
       "    }\n",
       "\n",
       "    .dataframe tbody tr th {\n",
       "        vertical-align: top;\n",
       "    }\n",
       "\n",
       "    .dataframe thead th {\n",
       "        text-align: right;\n",
       "    }\n",
       "</style>\n",
       "<table border=\"1\" class=\"dataframe\">\n",
       "  <thead>\n",
       "    <tr style=\"text-align: right;\">\n",
       "      <th></th>\n",
       "      <th>brand</th>\n",
       "      <th>ratings</th>\n",
       "    </tr>\n",
       "  </thead>\n",
       "  <tbody>\n",
       "    <tr>\n",
       "      <th>0</th>\n",
       "      <td>'Weird Al' Yankovic</td>\n",
       "      <td>4.485000</td>\n",
       "    </tr>\n",
       "    <tr>\n",
       "      <th>3</th>\n",
       "      <td>Aerosmith</td>\n",
       "      <td>4.444444</td>\n",
       "    </tr>\n",
       "    <tr>\n",
       "      <th>4</th>\n",
       "      <td>Aileen Quinn</td>\n",
       "      <td>4.181895</td>\n",
       "    </tr>\n",
       "    <tr>\n",
       "      <th>6</th>\n",
       "      <td>Akira Terao</td>\n",
       "      <td>4.250000</td>\n",
       "    </tr>\n",
       "    <tr>\n",
       "      <th>7</th>\n",
       "      <td>Akira Yamauchi</td>\n",
       "      <td>2.800000</td>\n",
       "    </tr>\n",
       "    <tr>\n",
       "      <th>8</th>\n",
       "      <td>Al Hedison</td>\n",
       "      <td>4.484848</td>\n",
       "    </tr>\n",
       "    <tr>\n",
       "      <th>9</th>\n",
       "      <td>Al Pacino</td>\n",
       "      <td>4.036324</td>\n",
       "    </tr>\n",
       "    <tr>\n",
       "      <th>11</th>\n",
       "      <td>Alan Alda</td>\n",
       "      <td>4.312500</td>\n",
       "    </tr>\n",
       "    <tr>\n",
       "      <th>12</th>\n",
       "      <td>Alan Arkin</td>\n",
       "      <td>4.309091</td>\n",
       "    </tr>\n",
       "    <tr>\n",
       "      <th>13</th>\n",
       "      <td>Alan Baker (II)</td>\n",
       "      <td>2.800000</td>\n",
       "    </tr>\n",
       "  </tbody>\n",
       "</table>\n",
       "</div>"
      ],
      "text/plain": [
       "                  brand   ratings\n",
       "0   'Weird Al' Yankovic  4.485000\n",
       "3             Aerosmith  4.444444\n",
       "4          Aileen Quinn  4.181895\n",
       "6           Akira Terao  4.250000\n",
       "7        Akira Yamauchi  2.800000\n",
       "8            Al Hedison  4.484848\n",
       "9             Al Pacino  4.036324\n",
       "11            Alan Alda  4.312500\n",
       "12           Alan Arkin  4.309091\n",
       "13      Alan Baker (II)  2.800000"
      ]
     },
     "execution_count": 44,
     "metadata": {},
     "output_type": "execute_result"
    }
   ],
   "source": [
    "relevant1.head(10)"
   ]
  },
  {
   "cell_type": "markdown",
   "metadata": {},
   "source": [
    "## top 10 consistent product with its rating"
   ]
  },
  {
   "cell_type": "code",
   "execution_count": null,
   "metadata": {},
   "outputs": [],
   "source": []
  },
  {
   "cell_type": "raw",
   "metadata": {},
   "source": []
  },
  {
   "cell_type": "code",
   "execution_count": 45,
   "metadata": {},
   "outputs": [
    {
     "data": {
      "text/html": [
       "<div>\n",
       "<style scoped>\n",
       "    .dataframe tbody tr th:only-of-type {\n",
       "        vertical-align: middle;\n",
       "    }\n",
       "\n",
       "    .dataframe tbody tr th {\n",
       "        vertical-align: top;\n",
       "    }\n",
       "\n",
       "    .dataframe thead th {\n",
       "        text-align: right;\n",
       "    }\n",
       "</style>\n",
       "<table border=\"1\" class=\"dataframe\">\n",
       "  <thead>\n",
       "    <tr style=\"text-align: right;\">\n",
       "      <th></th>\n",
       "      <th>brand</th>\n",
       "      <th>ratings</th>\n",
       "    </tr>\n",
       "  </thead>\n",
       "  <tbody>\n",
       "    <tr>\n",
       "      <th>1</th>\n",
       "      <td>Adrian Pasdar</td>\n",
       "      <td>3.772000</td>\n",
       "    </tr>\n",
       "    <tr>\n",
       "      <th>2</th>\n",
       "      <td>Adrienne Barbeau</td>\n",
       "      <td>3.705882</td>\n",
       "    </tr>\n",
       "    <tr>\n",
       "      <th>5</th>\n",
       "      <td>Akira Kamiya</td>\n",
       "      <td>3.888889</td>\n",
       "    </tr>\n",
       "    <tr>\n",
       "      <th>10</th>\n",
       "      <td>Alain Delon</td>\n",
       "      <td>3.757576</td>\n",
       "    </tr>\n",
       "    <tr>\n",
       "      <th>15</th>\n",
       "      <td>Alan Ladd</td>\n",
       "      <td>3.888889</td>\n",
       "    </tr>\n",
       "    <tr>\n",
       "      <th>18</th>\n",
       "      <td>Albert Dekker</td>\n",
       "      <td>3.666667</td>\n",
       "    </tr>\n",
       "    <tr>\n",
       "      <th>22</th>\n",
       "      <td>Alec Guinness</td>\n",
       "      <td>3.750000</td>\n",
       "    </tr>\n",
       "    <tr>\n",
       "      <th>24</th>\n",
       "      <td>Alexis (XI)</td>\n",
       "      <td>3.152439</td>\n",
       "    </tr>\n",
       "    <tr>\n",
       "      <th>27</th>\n",
       "      <td>Alicia Silverstone</td>\n",
       "      <td>3.750000</td>\n",
       "    </tr>\n",
       "    <tr>\n",
       "      <th>33</th>\n",
       "      <td>Andrew McCarthy</td>\n",
       "      <td>3.792683</td>\n",
       "    </tr>\n",
       "  </tbody>\n",
       "</table>\n",
       "</div>"
      ],
      "text/plain": [
       "                 brand   ratings\n",
       "1        Adrian Pasdar  3.772000\n",
       "2     Adrienne Barbeau  3.705882\n",
       "5         Akira Kamiya  3.888889\n",
       "10         Alain Delon  3.757576\n",
       "15           Alan Ladd  3.888889\n",
       "18       Albert Dekker  3.666667\n",
       "22       Alec Guinness  3.750000\n",
       "24         Alexis (XI)  3.152439\n",
       "27  Alicia Silverstone  3.750000\n",
       "33     Andrew McCarthy  3.792683"
      ]
     },
     "execution_count": 45,
     "metadata": {},
     "output_type": "execute_result"
    }
   ],
   "source": [
    "irrevant.head(10)"
   ]
  },
  {
   "cell_type": "code",
   "execution_count": null,
   "metadata": {},
   "outputs": [],
   "source": []
  },
  {
   "cell_type": "markdown",
   "metadata": {},
   "source": [
    "## top 10 inconsistent product with its rating"
   ]
  },
  {
   "cell_type": "code",
   "execution_count": null,
   "metadata": {},
   "outputs": [],
   "source": [
    "relevant1.shape[0]"
   ]
  },
  {
   "cell_type": "code",
   "execution_count": 46,
   "metadata": {},
   "outputs": [
    {
     "data": {
      "image/png": "[encoded data removed]",
      "text/plain": [
       "<Figure size 432x288 with 1 Axes>"
      ]
     },
     "metadata": {},
     "output_type": "display_data"
    }
   ],
   "source": [
    "from matplotlib import pyplot as plt\n",
    "import numpy as np\n",
    "fig = plt.figure()\n",
    "ax = fig.add_axes([0,0,1,1])\n",
    "ax.axis('equal')\n",
    "langs = [\"consistent\",\"inconsistent\"]\n",
    "students = [relevant1.shape[0],irrevant.shape[0]]\n",
    "ax.pie(students, labels = langs,autopct='%1.2f%%')\n",
    "plt.show()"
   ]
  },
  {
   "cell_type": "markdown",
   "metadata": {},
   "source": [
    "## consistent-inconsistent ratings"
   ]
  },
  {
   "cell_type": "markdown",
   "metadata": {},
   "source": [
    "# Below is the attempt i tried by training the model to use for predicting sentiment and categorize as positive negative and neutral but the accuracy is not that good that is why i used the pretrained ntlk sentimental analysis vader above\n"
   ]
  },
  {
   "cell_type": "code",
   "execution_count": null,
   "metadata": {},
   "outputs": [],
   "source": [
    "winner9 = winner[['asin','sentimentscore']]"
   ]
  },
  {
   "cell_type": "code",
   "execution_count": null,
   "metadata": {},
   "outputs": [],
   "source": [
    "winner10 = []\n",
    "\n",
    "for wins in range(len(winner9)):\n",
    "    if(winner9['sentimentscore'][wins]>=0.05):\n",
    "        winner10.append(winner9['sentimentscore'][wins])"
   ]
  },
  {
   "cell_type": "code",
   "execution_count": null,
   "metadata": {},
   "outputs": [],
   "source": [
    "winner10"
   ]
  },
  {
   "cell_type": "code",
   "execution_count": null,
   "metadata": {},
   "outputs": [],
   "source": []
  },
  {
   "cell_type": "code",
   "execution_count": null,
   "metadata": {},
   "outputs": [],
   "source": [
    "X = confirm['liststring']\n",
    "y_dict = {1:-1, 2:-1,3:0,4:1, 5:1}\n",
    "y = confirm['overall'].map(y_dict)"
   ]
  },
  {
   "cell_type": "code",
   "execution_count": null,
   "metadata": {},
   "outputs": [],
   "source": []
  },
  {
   "cell_type": "code",
   "execution_count": null,
   "metadata": {},
   "outputs": [],
   "source": [
    "confirm.head(24)"
   ]
  },
  {
   "cell_type": "code",
   "execution_count": null,
   "metadata": {},
   "outputs": [],
   "source": [
    "df['reviewText'][23]"
   ]
  },
  {
   "cell_type": "code",
   "execution_count": null,
   "metadata": {},
   "outputs": [],
   "source": [
    "rupp = X.tolist()\n",
    "str1 = ' '.join([str(elem) for elem in rupp]) \n",
    "    "
   ]
  },
  {
   "cell_type": "code",
   "execution_count": null,
   "metadata": {},
   "outputs": [],
   "source": [
    "X_toll = confirm['texting']"
   ]
  },
  {
   "cell_type": "code",
   "execution_count": null,
   "metadata": {},
   "outputs": [],
   "source": [
    "from nltk.tokenize import word_tokenize\n",
    "from sklearn.metrics import classification_report, confusion_matrix, accuracy_score\n",
    "\n",
    "\n",
    "\n",
    "\n",
    "\n",
    "\n",
    "c = CountVectorizer(stop_words = 'english')\n",
    "\n",
    "def text_fit(X, y, model,clf_model,coef_show=1):\n",
    "    opio = [\"I love you\"]\n",
    "    opio_c = model.fit_transform(opio)\n",
    "    \n",
    "    X_c = model.fit_transform(X)\n",
    "    print('# features: {}'.format(X_c.shape[1]))\n",
    "    X_train, X_test, y_train, y_test = train_test_split(X_c, y, random_state=0)\n",
    "    print('# train records: {}'.format(X_train.shape[0]))\n",
    "    print('# test records: {}'.format(X_test.shape[0]))\n",
    "    \n",
    "    clf = clf_model.fit(X_train, y_train)\n",
    "    print()\n",
    "    acc = clf.score(X_test, y_test)\n",
    "    print ('Model Accuracy: {}'.format(acc))\n",
    "#     print(\"Prediction from test\",clf.predict(X_test))\n",
    "#     predictions = clf.predict(X_test)\n",
    "#     print(\"Validation accuracy:\",accuracy_score(y_test, predictions))\n",
    "#     custom_tweet = \"I ordered just once from TerribleCo, they screwed up, never used the app again.\"\n",
    "#     custom_tokens = word_tokenize(custom_tweet)\n",
    "\n",
    "#     print(clf.predict(dict([token, True] for token in custom_tokens)))\n",
    "    \n",
    "    \n",
    "    if coef_show == 1: \n",
    "        w = model.get_feature_names()\n",
    "        coef = clf.coef_.tolist()[0]\n",
    "        coeff_df = pd.DataFrame({'Word' : w, 'Coefficient' : coef})\n",
    "        coeff_df = coeff_df.sort_values(['Coefficient', 'Word'], ascending=[0, 1])\n",
    "#         print(len(coeff_df.to_string(index=False)))\n",
    "        print('')\n",
    "        print('-Top 20 negative-')\n",
    "        print(coeff_df.head(20).to_string(index=False))\n",
    "        print('')\n",
    "        print(\"-Top 20 Neutral\")\n",
    "        print(coeff_df[54440:54560].to_string(index=False))\n",
    "        \n",
    "        print('-Top 20 Positive-')        \n",
    "        print(coeff_df.tail(20).to_string(index=False))\n",
    "       \n",
    "    \n",
    "    \n",
    "text_fit(X, y, c, LogisticRegression())"
   ]
  },
  {
   "cell_type": "code",
   "execution_count": null,
   "metadata": {},
   "outputs": [],
   "source": [
    "text_fit(X, y, c, DummyClassifier(),0)"
   ]
  },
  {
   "cell_type": "code",
   "execution_count": null,
   "metadata": {},
   "outputs": [],
   "source": [
    "tfidf = TfidfVectorizer(stop_words = 'english')\n",
    "text_fit(X, y, tfidf, LogisticRegression())\n"
   ]
  },
  {
   "cell_type": "code",
   "execution_count": null,
   "metadata": {},
   "outputs": [],
   "source": [
    "tfidf_n = TfidfVectorizer(ngram_range=(1,2),stop_words = 'english')\n",
    "text_fit(X, y, tfidf_n, LogisticRegression())"
   ]
  },
  {
   "cell_type": "code",
   "execution_count": null,
   "metadata": {},
   "outputs": [],
   "source": [
    "A=[]\n",
    "for i in range(len(confirm['overall'])):\n",
    "    if confirm['overall'][i]<=5 and confirm['overall'][i]>3 :\n",
    "        A.append(\"Positive\")\n",
    "    elif confirm['overall'][i]<=3 and confirm['overall'][i]>2:\n",
    "        A.append(\"Neutral\")\n",
    "    else:\n",
    "        A.append(\"Negative\")\n",
    "        "
   ]
  },
  {
   "cell_type": "code",
   "execution_count": null,
   "metadata": {},
   "outputs": [],
   "source": [
    "Ras = LogisticRegression()\n",
    "Ras.predict(\"Hello\")"
   ]
  },
  {
   "cell_type": "code",
   "execution_count": null,
   "metadata": {},
   "outputs": [],
   "source": [
    "confirm['senti']=A"
   ]
  },
  {
   "cell_type": "code",
   "execution_count": null,
   "metadata": {},
   "outputs": [],
   "source": [
    "confirm.head(120)"
   ]
  },
  {
   "cell_type": "code",
   "execution_count": null,
   "metadata": {},
   "outputs": [],
   "source": [
    "confirm['reviewText'][118]"
   ]
  },
  {
   "cell_type": "code",
   "execution_count": null,
   "metadata": {},
   "outputs": [],
   "source": [
    "# check = confirm[['reviewText','overall']]"
   ]
  },
  {
   "cell_type": "code",
   "execution_count": null,
   "metadata": {},
   "outputs": [],
   "source": [
    "# df.columns"
   ]
  },
  {
   "cell_type": "code",
   "execution_count": null,
   "metadata": {},
   "outputs": [],
   "source": [
    "# A = []\n",
    "# for i in range(200):\n",
    "#     A.append(check['helpful'][i][0])\n",
    "    "
   ]
  },
  {
   "cell_type": "code",
   "execution_count": null,
   "metadata": {},
   "outputs": [],
   "source": [
    "# B = []\n",
    "# for j in range(200):\n",
    "#     B.append(check['reviewText'][j])"
   ]
  },
  {
   "cell_type": "code",
   "execution_count": null,
   "metadata": {},
   "outputs": [],
   "source": [
    "# C = list(zip(B,A))\n"
   ]
  },
  {
   "cell_type": "code",
   "execution_count": null,
   "metadata": {},
   "outputs": [],
   "source": [
    "# C"
   ]
  },
  {
   "cell_type": "code",
   "execution_count": null,
   "metadata": {},
   "outputs": [],
   "source": [
    "# # df[df['A'] > 2]['B'] = new_val  \n",
    "# # def f(row):\n",
    "# Jo = []\n",
    "# for k in range(len(check['helpful'])):\n",
    "#     if check['helpful'][k][0]==1:\n",
    "#         Jo.append(\"Neutral\")\n",
    "        \n",
    "#     elif check['helpful'][k][0]==0:\n",
    "#         Jo.append(\"Negative\")\n",
    "#     else:\n",
    "#         Jo.append(\"Positive\")\n",
    "        \n",
    "        \n",
    "        \n",
    "# check['distancingsentiment']=Jo\n",
    "\n",
    "        \n",
    "\n",
    "      \n",
    "\n",
    "            \n",
    "\n",
    "    \n",
    "        \n",
    "   \n",
    "        "
   ]
  },
  {
   "cell_type": "code",
   "execution_count": null,
   "metadata": {},
   "outputs": [],
   "source": [
    "check.head()"
   ]
  },
  {
   "cell_type": "code",
   "execution_count": null,
   "metadata": {},
   "outputs": [],
   "source": [
    "check.iloc[::100,:]"
   ]
  },
  {
   "cell_type": "code",
   "execution_count": null,
   "metadata": {},
   "outputs": [],
   "source": [
    "check['checku']"
   ]
  },
  {
   "cell_type": "code",
   "execution_count": null,
   "metadata": {},
   "outputs": [],
   "source": [
    "# from sklearn.feature_extraction.text import CountVectorizer\n",
    "# from nltk.tokenize import RegexpTokenizer\n",
    "# #tokenizer to remove unwanted elements from out data like symbols and numbers\n",
    "# token = RegexpTokenizer(r'[a-zA-Z0-9]+')\n",
    "# cv = CountVectorizer(lowercase=True,stop_words='english',ngram_range = (1,1),tokenizer = token.tokenize)\n",
    "# text_counts= cv.fit_transform(confirm['reviewText'])"
   ]
  },
  {
   "cell_type": "code",
   "execution_count": null,
   "metadata": {},
   "outputs": [],
   "source": [
    "# text_counts"
   ]
  },
  {
   "cell_type": "code",
   "execution_count": null,
   "metadata": {},
   "outputs": [],
   "source": [
    "# from sklearn.model_selection import train_test_split\n",
    "# X_train, X_test, y_train, y_test = train_test_split(\n",
    "#     text_counts, confirm['overall'], test_size=0.3, random_state=1)"
   ]
  },
  {
   "cell_type": "markdown",
   "metadata": {},
   "source": []
  },
  {
   "cell_type": "code",
   "execution_count": null,
   "metadata": {},
   "outputs": [],
   "source": []
  },
  {
   "cell_type": "code",
   "execution_count": null,
   "metadata": {},
   "outputs": [],
   "source": [
    "from sklearn.naive_bayes import MultinomialNB\n",
    "#Import scikit-learn metrics module for accuracy calculation\n",
    "from sklearn import metrics\n",
    "# Model Generation Using Multinomial Naive Bayes\n",
    "clf = MultinomialNB().fit(X_train, y_train)\n",
    "predicted= clf.predict(X_test)\n",
    "print(\"MultinomialNB Accuracy:\",metrics.accuracy_score(y_test, predicted))"
   ]
  },
  {
   "cell_type": "code",
   "execution_count": null,
   "metadata": {},
   "outputs": [],
   "source": [
    "uiperw = cv.transform([\"hellobro\"])"
   ]
  },
  {
   "cell_type": "code",
   "execution_count": null,
   "metadata": {},
   "outputs": [],
   "source": [
    "type(uiperw)"
   ]
  },
  {
   "cell_type": "code",
   "execution_count": null,
   "metadata": {},
   "outputs": [],
   "source": [
    "\n",
    "from sklearn.feature_extraction.text import TfidfVectorizer\n",
    "tf=TfidfVectorizer()\n",
    "text_tf= tf.fit_transform(confirm['reviewText'])\n"
   ]
  },
  {
   "cell_type": "code",
   "execution_count": null,
   "metadata": {},
   "outputs": [],
   "source": [
    "from sklearn.model_selection import train_test_split\n",
    "X_train, X_test, y_train, y_test = train_test_split(\n",
    "    text_tf, confirm['overall'], test_size=0.3, random_state=123)"
   ]
  },
  {
   "cell_type": "code",
   "execution_count": null,
   "metadata": {},
   "outputs": [],
   "source": [
    "from sklearn.naive_bayes import MultinomialNB\n",
    "from sklearn import metrics\n",
    "# Model Generation Using Multinomial Naive Bayes\n",
    "clf = MultinomialNB().fit(X_train, y_train)\n",
    "predicted= clf.predict(X_test)\n",
    "print(\"MultinomialNB Accuracy:\",metrics.accuracy_score(y_test, predicted))\n"
   ]
  },
  {
   "cell_type": "code",
   "execution_count": null,
   "metadata": {},
   "outputs": [],
   "source": [
    "df.iloc[:20]"
   ]
  },
  {
   "cell_type": "code",
   "execution_count": null,
   "metadata": {},
   "outputs": [],
   "source": [
    "ropy = confirm['helpful']"
   ]
  },
  {
   "cell_type": "code",
   "execution_count": null,
   "metadata": {},
   "outputs": [],
   "source": []
  },
  {
   "cell_type": "code",
   "execution_count": null,
   "metadata": {},
   "outputs": [],
   "source": [
    "confirm.head()"
   ]
  },
  {
   "cell_type": "code",
   "execution_count": null,
   "metadata": {},
   "outputs": [],
   "source": [
    "import numpy as np\n",
    "for i in range(100):\n",
    "    confirm['sentiments'] =  confirm['helpful'].where(confirm['helpful'][0]==1 and confirm['helpful'][1]==1, \"Positive\")"
   ]
  },
  {
   "cell_type": "code",
   "execution_count": null,
   "metadata": {},
   "outputs": [],
   "source": [
    "confirm['confirm']\n"
   ]
  },
  {
   "cell_type": "code",
   "execution_count": null,
   "metadata": {},
   "outputs": [],
   "source": [
    "import pandas as pd\n",
    "\n"
   ]
  },
  {
   "cell_type": "code",
   "execution_count": null,
   "metadata": {},
   "outputs": [],
   "source": [
    "def load_data(csv_file, split=0.9):\n",
    "    data = pd.read_json(csv_file,lines=True)\n",
    "    \n",
    "    # Shuffle data\n",
    "    train_data = data.sample(frac=1, random_state=7)\n",
    "    \n",
    "    texts = train_data.text.values\n",
    "    labels = [{\"POSITIVE\": bool(y), \"NEGATIVE\": not bool(y)}\n",
    "              for y in train_data.sentiment.values]\n",
    "    split = int(len(train_data) * split)\n",
    "    \n",
    "    train_labels = [{\"cats\": labels} for labels in labels[:split]]\n",
    "    val_labels = [{\"cats\": labels} for labels in labels[split:]]\n",
    "    \n",
    "    return texts[:split], train_labels, texts[split:], val_labels\n",
    "\n",
    "train_texts, train_labels, val_texts, val_labels = load_data('../input/nlp-course/yelp_ratings.csv')"
   ]
  },
  {
   "cell_type": "code",
   "execution_count": null,
   "metadata": {},
   "outputs": [],
   "source": [
    "from nltk.stem.wordnet import WordNetLemmatizer\n",
    "from nltk.corpus import twitter_samples, stopwords\n",
    "from nltk.tag import pos_tag\n",
    "from nltk.tokenize import word_tokenize\n",
    "from nltk import FreqDist, classify, NaiveBayesClassifier\n",
    "\n",
    "import re, string, random\n",
    "\n",
    "# def remove_noise(tweet_tokens, stop_words = ()):\n",
    "\n",
    "#     cleaned_tokens = []\n",
    "\n",
    "#     for token, tag in pos_tag(tweet_tokens):\n",
    "#         token = re.sub('http[s]?://(?:[a-zA-Z]|[0-9]|[$-_@.&+#]|[!*\\(\\),]|'\\\n",
    "#                        '(?:%[0-9a-fA-F][0-9a-fA-F]))+','', token)\n",
    "#         token = re.sub(\"(@[A-Za-z0-9_]+)\",\"\", token)\n",
    "\n",
    "#         if tag.startswith(\"NN\"):\n",
    "#             pos = 'n'\n",
    "#         elif tag.startswith('VB'):\n",
    "#             pos = 'v'\n",
    "#         else:\n",
    "#             pos = 'a'\n",
    "\n",
    "#         lemmatizer = WordNetLemmatizer()\n",
    "#         token = lemmatizer.lemmatize(token, pos)\n",
    "\n",
    "#         if len(token) > 0 and token not in string.punctuation and token.lower() not in stop_words:\n",
    "#             cleaned_tokens.append(token.lower())\n",
    "#     return cleaned_tokens\n",
    "\n",
    "def get_all_words(cleaned_tokens_list):\n",
    "    for tokens in cleaned_tokens_list:\n",
    "        for token in tokens:\n",
    "            yield token\n",
    "\n",
    "def get_tweets_for_model(cleaned_tokens_list):\n",
    "    for tweet_tokens in cleaned_tokens_list:\n",
    "        yield dict([token, True] for token in tweet_tokens)\n",
    "\n",
    "if __name__ == \"__main__\":\n",
    "\n",
    "    positive_tweets = twitter_samples.strings('positive_tweets.json')\n",
    "    negative_tweets = twitter_samples.strings('negative_tweets.json')\n",
    "    text = twitter_samples.strings('tweets.20150430-223406.json')\n",
    "    tweet_tokens = twitter_samples.tokenized('positive_tweets.json')[0]\n",
    "\n",
    "    stop_words = stopwords.words('english')\n",
    "\n",
    "    positive_tweet_tokens = twitter_samples.tokenized('positive_tweets.json')\n",
    "    negative_tweet_tokens = twitter_samples.tokenized('negative_tweets.json')\n",
    "\n",
    "    positive_cleaned_tokens_list = []\n",
    "    negative_cleaned_tokens_list = []\n",
    "\n",
    "    for tokens in positive_tweet_tokens:\n",
    "        positive_cleaned_tokens_list.append(remove_noise(tokens, stop_words))\n",
    "\n",
    "    for tokens in negative_tweet_tokens:\n",
    "        negative_cleaned_tokens_list.append(remove_noise(tokens, stop_words))\n",
    "\n",
    "    all_pos_words = get_all_words(positive_cleaned_tokens_list)\n",
    "\n",
    "    freq_dist_pos = FreqDist(all_pos_words)\n",
    "    print(freq_dist_pos.most_common(10))\n",
    "\n",
    "    positive_tokens_for_model = get_tweets_for_model(positive_cleaned_tokens_list)\n",
    "    negative_tokens_for_model = get_tweets_for_model(negative_cleaned_tokens_list)\n",
    "\n",
    "    positive_dataset = [(tweet_dict, \"Positive\")\n",
    "                         for tweet_dict in positive_tokens_for_model]\n",
    "\n",
    "    negative_dataset = [(tweet_dict, \"Negative\")\n",
    "                         for tweet_dict in negative_tokens_for_model]\n",
    "\n",
    "    dataset = positive_dataset + negative_dataset\n",
    "\n",
    "    random.shuffle(dataset)\n",
    "\n",
    "    train_data = dataset[:7000]\n",
    "    test_data = dataset[7000:]\n",
    "\n",
    "    classifier = NaiveBayesClassifier.train(train_data)\n",
    "\n",
    "    print(\"Accuracy is:\", classify.accuracy(classifier, test_data))\n",
    "\n",
    "    print(classifier.show_most_informative_features(10))\n",
    "\n",
    "    custom_tweet = \"i love you.\"\n",
    "\n",
    "    custom_tokens = word_tokenize(custom_tweet)\n",
    "\n",
    "#     print(custom_tweet, classifier.classify(dict([token, True] for token in custom_tokens)))\n",
    "    print(positive_dataset)"
   ]
  },
  {
   "cell_type": "code",
   "execution_count": null,
   "metadata": {},
   "outputs": [],
   "source": [
    "from nltk.tokenize import word_tokenize\n",
    "from sklearn.metrics import classification_report, confusion_matrix, accuracy_score\n",
    "\n",
    "from sklearn.feature_extraction.text import TfidfTransformer\n",
    "\n",
    "from sklearn.naive_bayes import MultinomialNB\n",
    "from sklearn.naive_bayes import GaussianNB\n",
    "from sklearn.ensemble import RandomForestRegressor\n",
    "from sklearn.tree import DecisionTreeRegressor\n",
    "from sklearn.svm import LinearSVC\n",
    "from sklearn.svm import SVR\n",
    "from sklearn.linear_model import LogisticRegression\n",
    "from sklearn.feature_extraction.text import CountVectorizer\n",
    "from sklearn.tree import DecisionTreeClassifier\n",
    "from nltk.tokenize import RegexpTokenizer\n",
    "from sklearn.naive_bayes import BernoulliNB\n",
    "#tokenizer to remove unwanted elements from out data like symbols and numbers\n",
    "token = RegexpTokenizer(r'[a-zA-Z0-9]+')\n",
    "cv = CountVectorizer(lowercase=True,stop_words=None,ngram_range = (1,1),tokenizer = token.tokenize)\n",
    "text_counts12= cv.fit_transform(X)\n",
    "\n",
    "\n",
    "\n",
    "c = CountVectorizer(stop_words = 'english')\n",
    "\n",
    "# def text_fit(X, y, model,clf_model,coef_show=1):\n",
    "opio = [\"I love you\"]\n",
    "opio_c = c.fit_transform(opio)\n",
    "\n",
    "tfidf_transformer = TfidfTransformer()\n",
    "\n",
    "X_c = c.fit_transform(X)\n",
    "X_train_tfidf = tfidf_transformer.fit_transform(X_c)\n",
    "print('# features: {}'.format(X_c.shape[1]))\n",
    "# X_train, X_test, y_train, y_test = train_test_split(X_train_tfidf, y,random_state=0)\n",
    "X_train, X_test, y_train, y_test = train_test_split(text_counts12, y,test_size=0.4,random_state=42)\n",
    "print('# train records: {}'.format(X_train.shape[0]))\n",
    "print('# test records: {}'.format(X_test.shape[0]))\n",
    "# hello = LogisticRegression()\n",
    "# hello = MultinomialNB()\n",
    "# hello = BernoulliNB()\n",
    "# hello = DecisionTreeClassifier(max_depth=2,random_state=0)\n",
    "hello =  LinearSVC(random_state=123, tol=1e-5)\n",
    "# hello = SVR(C=1.0, epsilon=0.2)\n",
    "# hello = \n",
    "clf = hello.fit(X_train, y_train)\n",
    "# count_vect = CountVectorizer(min_df=2 ,stop_words=stopwords , ngram_range=(1,2))\n",
    "# count_vect = Count\n",
    "predictuation = clf.predict(X_test)\n",
    "\n",
    "print(confusion_matrix(y_test,predictuation,labels=[-1,0,1]))\n",
    "acc = clf.score(X_test, y_test)\n",
    "print ('Model Accuracy: {}'.format(acc))\n",
    "\n",
    "# sample_counts = c.transform([\"i love you\"])\n",
    "# sample_tfidf = tfidf_transformer.transform(sample_counts)\n",
    "# result = hello.predict(sample_tfidf)[0]\n",
    "# confirm['senting']=predictuation\n",
    "#     print(\"Prediction from test\",clf.predict(X_test))\n",
    "#     predictions = clf.predict(X_test)\n",
    "#     print(\"Validation accuracy:\",accuracy_score(y_test, predictions))\n",
    "#     custom_tweet = \"I ordered just once from TerribleCo, they screwed up, never used the app again.\"\n",
    "#     custom_tokens = word_tokenize(custom_tweet)\n",
    "\n",
    "#     print(clf.predict(dict([token, True] for token in custom_tokens)))\n",
    "    \n",
    "    \n",
    "#     f coef_show == 1: \n",
    "#         w = model.get_feature_names()\n",
    "#         coef = clf.coef_.tolist()[0]\n",
    "#         coeff_df = pd.DataFrame({'Word' : w, 'Coefficient' : coef})\n",
    "#         coeff_df = coeff_df.sort_values(['Coefficient', 'Word'], ascending=[0, 1])\n",
    "# #         print(len(coeff_df.to_string(index=False)))\n",
    "#         print('')\n",
    "#         print('-Top 20 negative-')\n",
    "#         print(coeff_df.head(20).to_string(index=False))\n",
    "#         print('')\n",
    "#         print(\"-Top 20 Neutral\")\n",
    "#         print(coeff_df[54440:54560].to_string(index=False))\n",
    "        \n",
    "#         print('-Top 20 Positive-')        \n",
    "#         print(coeff_df.tail(20).to_string(index=False))i\n",
    "\n"
   ]
  },
  {
   "cell_type": "code",
   "execution_count": null,
   "metadata": {},
   "outputs": [],
   "source": []
  },
  {
   "cell_type": "code",
   "execution_count": null,
   "metadata": {},
   "outputs": [],
   "source": [
    "print(result)"
   ]
  },
  {
   "cell_type": "code",
   "execution_count": null,
   "metadata": {},
   "outputs": [],
   "source": [
    "print(X_train)"
   ]
  },
  {
   "cell_type": "code",
   "execution_count": null,
   "metadata": {},
   "outputs": [],
   "source": []
  },
  {
   "cell_type": "code",
   "execution_count": null,
   "metadata": {},
   "outputs": [],
   "source": [
    "confirm.head(220)"
   ]
  },
  {
   "cell_type": "code",
   "execution_count": null,
   "metadata": {},
   "outputs": [],
   "source": [
    "sample_counts1 =  tfidf_transformer.transform(c.transform([\"Damn good class\"]))\n"
   ]
  },
  {
   "cell_type": "code",
   "execution_count": null,
   "metadata": {},
   "outputs": [],
   "source": [
    "import matplotlib as mpl\n",
    "from wordcloud import WordCloud, STOPWORDS\n",
    "import matplotlib.pyplot as plt\n",
    "stopwords = set(STOPWORDS)\n",
    "\n",
    "\n",
    "mpl.rcParams['font.size']=12                #10 \n",
    "mpl.rcParams['savefig.dpi']=100             #72 \n",
    "mpl.rcParams['figure.subplot.bottom']=.1 \n",
    "\n",
    "\n",
    "def show_wordcloud(data, title = None):\n",
    "    wordcloud = WordCloud(\n",
    "        background_color='black',\n",
    "        stopwords=stopwords,\n",
    "        max_words=300,\n",
    "        max_font_size=40, \n",
    "        scale=3,\n",
    "        random_state=1 \n",
    "        \n",
    "    ).generate(str(data))\n",
    "    \n",
    "    fig = plt.figure(1, figsize=(15, 15))\n",
    "    plt.axis('off')\n",
    "    if title: \n",
    "        fig.suptitle(title, fontsize=20)\n",
    "        fig.subplots_adjust(top=2.3)\n",
    "\n",
    "    plt.imshow(wordcloud)\n",
    "    plt.show()"
   ]
  },
  {
   "cell_type": "code",
   "execution_count": null,
   "metadata": {},
   "outputs": [],
   "source": [
    "hello.predict(sample_counts1)"
   ]
  },
  {
   "cell_type": "code",
   "execution_count": null,
   "metadata": {},
   "outputs": [],
   "source": [
    "yokk = hello.predict(sample_counts1)\n",
    "yokki = yokk.shape[0]\n",
    "\n",
    "    "
   ]
  },
  {
   "cell_type": "code",
   "execution_count": null,
   "metadata": {},
   "outputs": [],
   "source": [
    "print(yokki)\n",
    "# ile = []\n",
    "# for navinrow in range(confirm['summary']):\n",
    "#     if confirm['Summary']==:\n",
    "#         ile.append(\"Positive\")\n",
    "#     elif yokk[navinrow]==[-1]:\n",
    "#         ile.append(\"Negative\")\n",
    "        \n",
    "#     elif yokk[navinrow]==[0]:\n",
    "#         ile.append(\"Neutral\")\n",
    "        "
   ]
  },
  {
   "cell_type": "code",
   "execution_count": null,
   "metadata": {},
   "outputs": [],
   "source": [
    "print(len(y_test))\n",
    "print(len(df3))"
   ]
  },
  {
   "cell_type": "code",
   "execution_count": null,
   "metadata": {},
   "outputs": [],
   "source": [
    "# A = []\n",
    "# for t in range(1):\n",
    "#     print(confirm['texting'][t][t][t])\n",
    "# confirm['texting']\n",
    "# Ahop=[]\n",
    "# youp = tfidf_transformer.transform(c.transform(X.head(120)))\n",
    "# print(hello.predict(youp))\n",
    "   confirm['reviewText'].head(23)\n"
   ]
  },
  {
   "cell_type": "code",
   "execution_count": null,
   "metadata": {},
   "outputs": [],
   "source": [
    "sample_one = \"ur stupid legend bro\".split(\" \")"
   ]
  },
  {
   "cell_type": "code",
   "execution_count": null,
   "metadata": {},
   "outputs": [],
   "source": [
    "sample_one"
   ]
  },
  {
   "cell_type": "code",
   "execution_count": null,
   "metadata": {},
   "outputs": [],
   "source": [
    "type(sample_one)"
   ]
  },
  {
   "cell_type": "code",
   "execution_count": null,
   "metadata": {},
   "outputs": [],
   "source": [
    "sample_two = tfidf_transformer.transform(c.transform([\"Hello brother\"]))"
   ]
  },
  {
   "cell_type": "code",
   "execution_count": null,
   "metadata": {},
   "outputs": [],
   "source": [
    "sample_two = hello.predict(sample_two)"
   ]
  },
  {
   "cell_type": "code",
   "execution_count": null,
   "metadata": {},
   "outputs": [],
   "source": [
    "print(sample_two)"
   ]
  },
  {
   "cell_type": "code",
   "execution_count": null,
   "metadata": {},
   "outputs": [],
   "source": [
    "type(confirm['texting'])\n"
   ]
  },
  {
   "cell_type": "code",
   "execution_count": null,
   "metadata": {},
   "outputs": [],
   "source": [
    "count1 =confirm['texting']"
   ]
  },
  {
   "cell_type": "code",
   "execution_count": null,
   "metadata": {},
   "outputs": [],
   "source": [
    "type(confirm['texting'])"
   ]
  },
  {
   "cell_type": "code",
   "execution_count": null,
   "metadata": {},
   "outputs": [],
   "source": [
    "confirm['testing11']  = confirm['reviewText'].str.split(\" \")"
   ]
  },
  {
   "cell_type": "code",
   "execution_count": null,
   "metadata": {},
   "outputs": [],
   "source": [
    "for \n",
    "\n",
    "type(confirm['testing11'])"
   ]
  },
  {
   "cell_type": "code",
   "execution_count": null,
   "metadata": {},
   "outputs": [],
   "source": [
    "# # kutiya = []\n",
    "# for kutingg in range(len(df['reviewText'])):\n",
    "#     kuta1 = confirm['reviewText'][kutingg]\n",
    "# len(confirm['reviewText'])\n",
    "    \n",
    "    \n",
    "#     kuta2 = tfidf_transformer.transform(c.transform(kuta1))\n",
    "#     kuta3 = hello.predict(kuta2)\n",
    "#     kutia.append(kuta3)\n",
    "    \n",
    "# confirm['sentimentalscores']=kutiya\n",
    "\n",
    "# type(confirm['reviewText'])\n",
    "# print(type(confirm['reviewText']))\n",
    "\n",
    "\n",
    "\n",
    "# len(df['reviewText'])\n",
    "yuopl  =[]\n",
    "orgg  = confirm['reviewText']\n",
    "for koolll in range(3163):\n",
    "    torr = (list(orgg[koolll]))\n",
    "    yuopl.append(torr)\n",
    "    \n",
    "    \n",
    "    \n",
    "# ypp = tfidf_transformer.transform(c.transform(confirm['reviewText']))\n",
    "ypp = X_train\n",
    "york = hello.predict(ypp)\n",
    "# ro =[]\n",
    "\n",
    "# confirm['sentimental_score'] = \n",
    "# print(york)\n",
    "# yoman = confirm.head(664283)\n",
    "\n",
    "\n",
    "   \n",
    "    \n",
    "    \n",
    "    "
   ]
  },
  {
   "cell_type": "code",
   "execution_count": null,
   "metadata": {},
   "outputs": [],
   "source": [
    "uiplm = tfidf_transformer.transform(c.transform(yuopl[12]))"
   ]
  },
  {
   "cell_type": "code",
   "execution_count": null,
   "metadata": {},
   "outputs": [],
   "source": [
    "aaar = list(yuopl)"
   ]
  },
  {
   "cell_type": "code",
   "execution_count": null,
   "metadata": {},
   "outputs": [],
   "source": [
    "aaar[10]"
   ]
  },
  {
   "cell_type": "code",
   "execution_count": null,
   "metadata": {},
   "outputs": [],
   "source": [
    "# rn = []\n",
    "# for ioppllo in range(3163):\n",
    "#     unio = tfidf_transformer.transform(c.transform(yuopl[ioppllo]))\n",
    "#     unio1 = hello.predict(unio)\n",
    "#     rn.append(unio1)\n",
    "    "
   ]
  },
  {
   "cell_type": "code",
   "execution_count": null,
   "metadata": {},
   "outputs": [],
   "source": [
    "print(c.fit_transform(['i am the best guy bro']))"
   ]
  },
  {
   "cell_type": "code",
   "execution_count": null,
   "metadata": {},
   "outputs": [],
   "source": [
    "rn = hello.predict(text_counts12)"
   ]
  },
  {
   "cell_type": "code",
   "execution_count": null,
   "metadata": {},
   "outputs": [],
   "source": [
    "print(len(rn))\n"
   ]
  },
  {
   "cell_type": "code",
   "execution_count": null,
   "metadata": {},
   "outputs": [],
   "source": [
    "donedone = confirm.head(1042204)"
   ]
  },
  {
   "cell_type": "code",
   "execution_count": null,
   "metadata": {},
   "outputs": [],
   "source": [
    "donedone['sentimental_scoruii']=rn"
   ]
  },
  {
   "cell_type": "code",
   "execution_count": null,
   "metadata": {},
   "outputs": [],
   "source": [
    "donedone = donedone.drop(['sentimental_scoruii'],axis=1)"
   ]
  },
  {
   "cell_type": "code",
   "execution_count": null,
   "metadata": {},
   "outputs": [],
   "source": [
    "donedone['navininggg'] = rn"
   ]
  },
  {
   "cell_type": "code",
   "execution_count": null,
   "metadata": {},
   "outputs": [],
   "source": []
  },
  {
   "cell_type": "code",
   "execution_count": null,
   "metadata": {},
   "outputs": [],
   "source": []
  },
  {
   "cell_type": "code",
   "execution_count": null,
   "metadata": {},
   "outputs": [],
   "source": [
    "# donedone['conforma'] = runn1\n",
    "# couy = c.fit_transform(['auntiesss'])\n",
    "# print(hello.predict(couy))\n"
   ]
  },
  {
   "cell_type": "code",
   "execution_count": null,
   "metadata": {},
   "outputs": [],
   "source": [
    "# yellow = []\n",
    "# for pars in range(17):\n",
    "#     if (donedone['navininggg'][pars]==1).all:\n",
    "#         yellow.append(1)\n",
    "type(donedone['navininggg'])\n",
    "# donedone\n",
    "        \n",
    "        \n",
    "    "
   ]
  },
  {
   "cell_type": "code",
   "execution_count": null,
   "metadata": {},
   "outputs": [],
   "source": [
    "tyio = donedone['navininggg'].tolist()"
   ]
  },
  {
   "cell_type": "code",
   "execution_count": null,
   "metadata": {},
   "outputs": [],
   "source": [
    "donedone.head(720)"
   ]
  },
  {
   "cell_type": "code",
   "execution_count": null,
   "metadata": {},
   "outputs": [],
   "source": [
    "stopa = set(stopwords.words('english')) "
   ]
  },
  {
   "cell_type": "code",
   "execution_count": null,
   "metadata": {},
   "outputs": [],
   "source": []
  },
  {
   "cell_type": "code",
   "execution_count": null,
   "metadata": {},
   "outputs": [],
   "source": [
    "len(tyio)"
   ]
  },
  {
   "cell_type": "code",
   "execution_count": null,
   "metadata": {},
   "outputs": [],
   "source": []
  },
  {
   "cell_type": "code",
   "execution_count": null,
   "metadata": {},
   "outputs": [],
   "source": [
    "len(yellow)"
   ]
  },
  {
   "cell_type": "code",
   "execution_count": null,
   "metadata": {},
   "outputs": [],
   "source": [
    "# donedonedone =donedone.head(3058)"
   ]
  },
  {
   "cell_type": "code",
   "execution_count": null,
   "metadata": {},
   "outputs": [],
   "source": [
    "# yulm = []\n",
    "# for pluta in range(1042204):\n",
    "#     chaparasi = (sum(rn[pluta])/len(rn[pluta]))*100.0\n",
    "# #     chaparasi = (yellow[pl]/ sum(rn[pl]))*(donedonedone['overall'])\n",
    "    \n",
    "#     yulm.append(chaparasi)\n",
    "    \n",
    "\n",
    "\n",
    "\n",
    "\n",
    "# # donedonedone['sentimentingnavining'] = yulm\n",
    "# donedone['sentimentingnavining'] = yulm"
   ]
  },
  {
   "cell_type": "code",
   "execution_count": null,
   "metadata": {},
   "outputs": [],
   "source": [
    "# First Sentence\n",
    "# Loves the song, so he really couldn't wait to play this. A little less interesting for him so he doesn't play long, but he is almost 3 and likes to play the older games, but really cute for a younger child)"
   ]
  },
  {
   "cell_type": "code",
   "execution_count": null,
   "metadata": {},
   "outputs": [],
   "source": []
  },
  {
   "cell_type": "code",
   "execution_count": null,
   "metadata": {},
   "outputs": [],
   "source": [
    "yuopl[3]"
   ]
  },
  {
   "cell_type": "code",
   "execution_count": null,
   "metadata": {},
   "outputs": [],
   "source": [
    "dorass = donedone"
   ]
  },
  {
   "cell_type": "code",
   "execution_count": null,
   "metadata": {},
   "outputs": [],
   "source": [
    "len(dorass)"
   ]
  },
  {
   "cell_type": "code",
   "execution_count": null,
   "metadata": {},
   "outputs": [],
   "source": [
    "dones = dorass.groupby(['asin'])['navininggg'].mean().to_frame(\"sentimentscore\").reset_index()"
   ]
  },
  {
   "cell_type": "code",
   "execution_count": null,
   "metadata": {},
   "outputs": [],
   "source": [
    "dones"
   ]
  },
  {
   "cell_type": "code",
   "execution_count": null,
   "metadata": {},
   "outputs": [],
   "source": [
    "# donald1=[]\n",
    "# for donald in range(41):\n",
    "#     donald1.append(dones[donald])\n",
    "dones.shape\n",
    "    \n",
    "    "
   ]
  },
  {
   "cell_type": "code",
   "execution_count": null,
   "metadata": {},
   "outputs": [],
   "source": [
    "# dorass2 = dorass.head(41)"
   ]
  },
  {
   "cell_type": "code",
   "execution_count": null,
   "metadata": {},
   "outputs": [],
   "source": []
  },
  {
   "cell_type": "code",
   "execution_count": null,
   "metadata": {},
   "outputs": [],
   "source": [
    "confirm.columns"
   ]
  },
  {
   "cell_type": "code",
   "execution_count": null,
   "metadata": {},
   "outputs": [],
   "source": [
    "dorass2.head(2)"
   ]
  },
  {
   "cell_type": "code",
   "execution_count": null,
   "metadata": {},
   "outputs": [],
   "source": [
    "print(concating.columns)\n",
    "concating['asin'].head(1000)"
   ]
  },
  {
   "cell_type": "code",
   "execution_count": null,
   "metadata": {},
   "outputs": [],
   "source": [
    "plota = concating[['asin','overall']]"
   ]
  },
  {
   "cell_type": "code",
   "execution_count": null,
   "metadata": {},
   "outputs": [],
   "source": [
    "ar =plota.groupby('asin')['overall'].mean().to_frame(name='rating').reset_index()"
   ]
  },
  {
   "cell_type": "code",
   "execution_count": null,
   "metadata": {},
   "outputs": [],
   "source": []
  },
  {
   "cell_type": "code",
   "execution_count": null,
   "metadata": {},
   "outputs": [],
   "source": [
    "type(ar)"
   ]
  },
  {
   "cell_type": "code",
   "execution_count": null,
   "metadata": {},
   "outputs": [],
   "source": [
    "confirm"
   ]
  },
  {
   "cell_type": "code",
   "execution_count": null,
   "metadata": {},
   "outputs": [],
   "source": [
    "confirm.head(800)"
   ]
  },
  {
   "cell_type": "code",
   "execution_count": null,
   "metadata": {},
   "outputs": [],
   "source": [
    "dddd"
   ]
  },
  {
   "cell_type": "code",
   "execution_count": null,
   "metadata": {},
   "outputs": [],
   "source": []
  }
 ],
 "metadata": {
  "kernelspec": {
   "display_name": "Python 3",
   "language": "python",
   "name": "python3"
  },
  "language_info": {
   "codemirror_mode": {
    "name": "ipython",
    "version": 3
   },
   "file_extension": ".py",
   "mimetype": "text/x-python",
   "name": "python",
   "nbconvert_exporter": "python",
   "pygments_lexer": "ipython3",
   "version": "3.6.8"
  }
 },
 "nbformat": 4,
 "nbformat_minor": 4
}
