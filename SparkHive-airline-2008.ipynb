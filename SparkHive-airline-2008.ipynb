{
 "cells": [
  {
   "cell_type": "code",
   "execution_count": 1,
   "metadata": {},
   "outputs": [],
   "source": [
    "!hdfs dfs -mkdir -p /user/cloudera/input"
   ]
  },
  {
   "cell_type": "code",
   "execution_count": 3,
   "metadata": {},
   "outputs": [
    {
     "name": "stdout",
     "output_type": "stream",
     "text": [
      "--2020-03-16 03:29:10--  https://s3.amazonaws.com/imcbucket/data/flights/2008.csv\n",
      "Resolving s3.amazonaws.com (s3.amazonaws.com)... 52.216.112.181\n",
      "Connecting to s3.amazonaws.com (s3.amazonaws.com)|52.216.112.181|:443... connected.\n",
      "HTTP request sent, awaiting response... 200 OK\n",
      "Length: 689413344 (657M) [binary/octet-stream]\n",
      "Saving to: ‘2008.csv’\n",
      "\n",
      "2008.csv            100%[===================>] 657.48M  77.6MB/s    in 8.1s    \n",
      "\n",
      "2020-03-16 03:29:18 (80.8 MB/s) - ‘2008.csv’ saved [689413344/689413344]\n",
      "\n"
     ]
    }
   ],
   "source": [
    "! wget https://s3.amazonaws.com/imcbucket/data/flights/2008.csv"
   ]
  },
  {
   "cell_type": "code",
   "execution_count": 4,
   "metadata": {},
   "outputs": [],
   "source": [
    "!hadoop fs -put 2008.csv /user/cloudera/input/"
   ]
  },
  {
   "cell_type": "code",
   "execution_count": 5,
   "metadata": {},
   "outputs": [
    {
     "name": "stdout",
     "output_type": "stream",
     "text": [
      "Found 1 items\r\n",
      "-rw-r--r--   2 root hadoop  689413344 2020-03-16 03:29 /user/cloudera/input/2008.csv\r\n"
     ]
    }
   ],
   "source": [
    "!hadoop fs -ls /user/cloudera/input"
   ]
  },
  {
   "cell_type": "code",
   "execution_count": 7,
   "metadata": {},
   "outputs": [
    {
     "name": "stdout",
     "output_type": "stream",
     "text": [
      "Year,Month,DayofMonth,DayOfWeek,DepTime,CRSDepTime,ArrTime,CRSArrTime,UniqueCarrier,FlightNum,TailNum,ActualElapsedTime,CRSElapsedTime,AirTime,ArrDelay,DepDelay,Origin,Dest,Distance,TaxiIn,TaxiOut,Cancelled,CancellationCode,Diverted,CarrierDelay,WeatherDelay,NASDelay,SecurityDelay,LateAircraftDelay\r\n",
      "2008,1,3,4,2003,1955,2211,2225,WN,335,N712SW,128,150,116,-14,8,IAD,TPA,810,4,8,0,,0,NA,NA,NA,NA,NA\r\n",
      "2008,1,3,4,754,735,1002,1000,WN,3231,N772SW,128,145,113,2,19,IAD,TPA,810,5,10,0,,0,NA,NA,NA,NA,NA\r\n"
     ]
    }
   ],
   "source": [
    "!head -3 ./2008.csv"
   ]
  },
  {
   "cell_type": "code",
   "execution_count": 10,
   "metadata": {},
   "outputs": [],
   "source": [
    "airline_rdd = sc.textFile('hdfs:///user/cloudera/input/2008.csv')"
   ]
  },
  {
   "cell_type": "code",
   "execution_count": 11,
   "metadata": {},
   "outputs": [
    {
     "data": {
      "text/plain": [
       "['Year,Month,DayofMonth,DayOfWeek,DepTime,CRSDepTime,ArrTime,CRSArrTime,UniqueCarrier,FlightNum,TailNum,ActualElapsedTime,CRSElapsedTime,AirTime,ArrDelay,DepDelay,Origin,Dest,Distance,TaxiIn,TaxiOut,Cancelled,CancellationCode,Diverted,CarrierDelay,WeatherDelay,NASDelay,SecurityDelay,LateAircraftDelay',\n",
       " '2008,1,3,4,2003,1955,2211,2225,WN,335,N712SW,128,150,116,-14,8,IAD,TPA,810,4,8,0,,0,NA,NA,NA,NA,NA']"
      ]
     },
     "execution_count": 11,
     "metadata": {},
     "output_type": "execute_result"
    }
   ],
   "source": [
    "airline_rdd.take(2)"
   ]
  },
  {
   "cell_type": "code",
   "execution_count": 13,
   "metadata": {},
   "outputs": [],
   "source": [
    "header_text = airline_rdd.first()"
   ]
  },
  {
   "cell_type": "code",
   "execution_count": 14,
   "metadata": {},
   "outputs": [],
   "source": [
    "airline_noheader_rdd = airline_rdd.filter(lambda row: row != header_text)"
   ]
  },
  {
   "cell_type": "code",
   "execution_count": 15,
   "metadata": {},
   "outputs": [
    {
     "data": {
      "text/plain": [
       "['2008,1,3,4,2003,1955,2211,2225,WN,335,N712SW,128,150,116,-14,8,IAD,TPA,810,4,8,0,,0,NA,NA,NA,NA,NA',\n",
       " '2008,1,3,4,754,735,1002,1000,WN,3231,N772SW,128,145,113,2,19,IAD,TPA,810,5,10,0,,0,NA,NA,NA,NA,NA',\n",
       " '2008,1,3,4,628,620,804,750,WN,448,N428WN,96,90,76,14,8,IND,BWI,515,3,17,0,,0,NA,NA,NA,NA,NA']"
      ]
     },
     "execution_count": 15,
     "metadata": {},
     "output_type": "execute_result"
    }
   ],
   "source": [
    "airline_noheader_rdd.take(3)"
   ]
  },
  {
   "cell_type": "code",
   "execution_count": 19,
   "metadata": {},
   "outputs": [],
   "source": [
    "fieldname_list = header_text.split(',')\n",
    "def make_row(row):\n",
    "    fieldValue_list = row.split(',')\n",
    "    d = dict(zip(fieldname_list,fieldValue_list))\n",
    "    return d"
   ]
  },
  {
   "cell_type": "code",
   "execution_count": 20,
   "metadata": {},
   "outputs": [],
   "source": [
    "airline_rows_rdd = airline_noheader_rdd.map(make_row)"
   ]
  },
  {
   "cell_type": "code",
   "execution_count": 21,
   "metadata": {},
   "outputs": [
    {
     "data": {
      "text/plain": [
       "[{'Year': '2008',\n",
       "  'Month': '1',\n",
       "  'DayofMonth': '3',\n",
       "  'DayOfWeek': '4',\n",
       "  'DepTime': '2003',\n",
       "  'CRSDepTime': '1955',\n",
       "  'ArrTime': '2211',\n",
       "  'CRSArrTime': '2225',\n",
       "  'UniqueCarrier': 'WN',\n",
       "  'FlightNum': '335',\n",
       "  'TailNum': 'N712SW',\n",
       "  'ActualElapsedTime': '128',\n",
       "  'CRSElapsedTime': '150',\n",
       "  'AirTime': '116',\n",
       "  'ArrDelay': '-14',\n",
       "  'DepDelay': '8',\n",
       "  'Origin': 'IAD',\n",
       "  'Dest': 'TPA',\n",
       "  'Distance': '810',\n",
       "  'TaxiIn': '4',\n",
       "  'TaxiOut': '8',\n",
       "  'Cancelled': '0',\n",
       "  'CancellationCode': '',\n",
       "  'Diverted': '0',\n",
       "  'CarrierDelay': 'NA',\n",
       "  'WeatherDelay': 'NA',\n",
       "  'NASDelay': 'NA',\n",
       "  'SecurityDelay': 'NA',\n",
       "  'LateAircraftDelay': 'NA'},\n",
       " {'Year': '2008',\n",
       "  'Month': '1',\n",
       "  'DayofMonth': '3',\n",
       "  'DayOfWeek': '4',\n",
       "  'DepTime': '754',\n",
       "  'CRSDepTime': '735',\n",
       "  'ArrTime': '1002',\n",
       "  'CRSArrTime': '1000',\n",
       "  'UniqueCarrier': 'WN',\n",
       "  'FlightNum': '3231',\n",
       "  'TailNum': 'N772SW',\n",
       "  'ActualElapsedTime': '128',\n",
       "  'CRSElapsedTime': '145',\n",
       "  'AirTime': '113',\n",
       "  'ArrDelay': '2',\n",
       "  'DepDelay': '19',\n",
       "  'Origin': 'IAD',\n",
       "  'Dest': 'TPA',\n",
       "  'Distance': '810',\n",
       "  'TaxiIn': '5',\n",
       "  'TaxiOut': '10',\n",
       "  'Cancelled': '0',\n",
       "  'CancellationCode': '',\n",
       "  'Diverted': '0',\n",
       "  'CarrierDelay': 'NA',\n",
       "  'WeatherDelay': 'NA',\n",
       "  'NASDelay': 'NA',\n",
       "  'SecurityDelay': 'NA',\n",
       "  'LateAircraftDelay': 'NA'},\n",
       " {'Year': '2008',\n",
       "  'Month': '1',\n",
       "  'DayofMonth': '3',\n",
       "  'DayOfWeek': '4',\n",
       "  'DepTime': '628',\n",
       "  'CRSDepTime': '620',\n",
       "  'ArrTime': '804',\n",
       "  'CRSArrTime': '750',\n",
       "  'UniqueCarrier': 'WN',\n",
       "  'FlightNum': '448',\n",
       "  'TailNum': 'N428WN',\n",
       "  'ActualElapsedTime': '96',\n",
       "  'CRSElapsedTime': '90',\n",
       "  'AirTime': '76',\n",
       "  'ArrDelay': '14',\n",
       "  'DepDelay': '8',\n",
       "  'Origin': 'IND',\n",
       "  'Dest': 'BWI',\n",
       "  'Distance': '515',\n",
       "  'TaxiIn': '3',\n",
       "  'TaxiOut': '17',\n",
       "  'Cancelled': '0',\n",
       "  'CancellationCode': '',\n",
       "  'Diverted': '0',\n",
       "  'CarrierDelay': 'NA',\n",
       "  'WeatherDelay': 'NA',\n",
       "  'NASDelay': 'NA',\n",
       "  'SecurityDelay': 'NA',\n",
       "  'LateAircraftDelay': 'NA'}]"
      ]
     },
     "execution_count": 21,
     "metadata": {},
     "output_type": "execute_result"
    }
   ],
   "source": [
    "airline_rows_rdd.take(3)"
   ]
  },
  {
   "cell_type": "code",
   "execution_count": 23,
   "metadata": {},
   "outputs": [],
   "source": [
    "airline_rows_rdd_cached = airline_rows_rdd.repartition(10).cache()"
   ]
  },
  {
   "cell_type": "code",
   "execution_count": 32,
   "metadata": {},
   "outputs": [],
   "source": [
    "!cp -rf /usr/lib/hive/conf/hive-site.xml /usr/lib/spark/conf"
   ]
  },
  {
   "cell_type": "code",
   "execution_count": 31,
   "metadata": {},
   "outputs": [
    {
     "name": "stdout",
     "output_type": "stream",
     "text": [
      "<?xml version=\"1.0\" ?>\r\n",
      "<!--\r\n",
      "  Licensed to the Apache Software Foundation (ASF) under one or more\r\n",
      "  contributor license agreements.  See the NOTICE file distributed with\r\n",
      "  this work for additional information regarding copyright ownership.\r\n",
      "  The ASF licenses this file to You under the Apache License, Version 2.0\r\n",
      "  (the \"License\"); you may not use this file except in compliance with\r\n",
      "  the License.  You may obtain a copy of the License at\r\n",
      "\r\n",
      "      http://www.apache.org/licenses/LICENSE-2.0\r\n",
      "\r\n",
      "  Unless required by applicable law or agreed to in writing, software\r\n",
      "  distributed under the License is distributed on an \"AS IS\" BASIS,\r\n",
      "  WITHOUT WARRANTIES OR CONDITIONS OF ANY KIND, either express or implied.\r\n",
      "  See the License for the specific language governing permissions and\r\n",
      "  limitations under the License.\r\n",
      "-->\r\n",
      "<?xml-stylesheet type=\"text/xsl\" href=\"configuration.xsl\"?>\r\n",
      "<configuration>\r\n",
      "  <!-- Hive Configuration can either be stored in this file or in the hadoop configuration files  -->\r\n",
      "  <!-- that are implied by Hadoop setup variables.                                                -->\r\n",
      "  <!-- Aside from Hadoop setup variables - this file is provided as a convenience so that Hive    -->\r\n",
      "  <!-- users do not have to edit hadoop configuration files (that may be managed as a centralized -->\r\n",
      "  <!-- resource).                                                                                 -->\r\n",
      "  <!-- Hive Execution Parameters -->\r\n",
      "  <property>\r\n",
      "    <name>javax.jdo.option.ConnectionURL</name>\r\n",
      "    <!--\r\n",
      "      Will be clobbered at startup by master 0.\r\n",
      "      Required to run schema tool during image build.\r\n",
      "    -->\r\n",
      "    <value>jdbc:mysql://prl-bda-dataproc-m/metastore</value>\r\n",
      "    <description>the URL of the MySQL database</description>\r\n",
      "  </property>\r\n",
      "  <property>\r\n",
      "    <name>javax.jdo.option.ConnectionDriverName</name>\r\n",
      "    <value>com.mysql.jdbc.Driver</value>\r\n",
      "  </property>\r\n",
      "  <property>\r\n",
      "    <name>javax.jdo.option.ConnectionUserName</name>\r\n",
      "    <value>hive</value>\r\n",
      "  </property>\r\n",
      "  <property>\r\n",
      "    <name>datanucleus.fixedDatastore</name>\r\n",
      "    <value>true</value>\r\n",
      "  </property>\r\n",
      "  <property>\r\n",
      "    <name>javax.jdo.option.ConnectionPassword</name>\r\n",
      "    <value>hive-password</value>\r\n",
      "  </property>\r\n",
      "  <property>\r\n",
      "    <name>datanucleus.autoStartMechanism</name>\r\n",
      "    <value>SchemaTable</value>\r\n",
      "  </property>\r\n",
      "  <property>\r\n",
      "    <!--\r\n",
      "      Crank up low-level retries from default value of 3. Hive 2.* will have\r\n",
      "      metastore connection attempts fast-fail instead of hanging between\r\n",
      "      \"Starting hive metastore\" and \"Started the new metastore...\", and\r\n",
      "      these retries happen with only 1 second between attempts. Metastore\r\n",
      "      startup appears to take ~5 seconds; in the rare case of startup\r\n",
      "      longer than 60 seconds, the secondary retry loop waits 1 minute between\r\n",
      "      attempts.\r\n",
      "    -->\r\n",
      "    <name>hive.metastore.connect.retries</name>\r\n",
      "    <value>60</value>\r\n",
      "  </property>\r\n",
      "  <property>\r\n",
      "    <name>datanucleus.autoCreateSchema</name>\r\n",
      "    <value>false</value>\r\n",
      "  </property>\r\n",
      "  <property>\r\n",
      "    <name>hive.execution.engine</name>\r\n",
      "    <value>tez</value>\r\n",
      "  </property>\r\n",
      "  <property>\r\n",
      "    <name>hive.metastore.uris</name>\r\n",
      "    <value>thrift://prl-bda-dataproc-m:9083</value>\r\n",
      "  </property>\r\n",
      "</configuration>\r\n"
     ]
    }
   ],
   "source": [
    "!cat /usr/lib/hive/conf/hive-site.xml"
   ]
  },
  {
   "cell_type": "code",
   "execution_count": 33,
   "metadata": {},
   "outputs": [
    {
     "name": "stderr",
     "output_type": "stream",
     "text": [
      "/usr/lib/spark/python/pyspark/sql/session.py:360: UserWarning: Using RDD of dict to inferSchema is deprecated. Use pyspark.sql.Row instead\n",
      "  warnings.warn(\"Using RDD of dict to inferSchema is deprecated. \"\n"
     ]
    }
   ],
   "source": [
    "airline_rows_df = airline_rows_rdd.toDF()"
   ]
  },
  {
   "cell_type": "code",
   "execution_count": 34,
   "metadata": {},
   "outputs": [],
   "source": [
    "airline_rows_df.registerTempTable(\"airline\")"
   ]
  },
  {
   "cell_type": "code",
   "execution_count": 36,
   "metadata": {},
   "outputs": [],
   "source": [
    "results = sqlContext.sql(\"select avg(ArrDelay) as delay, UniqueCarrier \\\n",
    "from airline \\\n",
    "group by UniqueCarrier \\\n",
    "order by delay ASC \\\n",
    "limit 10\")"
   ]
  },
  {
   "cell_type": "code",
   "execution_count": 37,
   "metadata": {},
   "outputs": [
    {
     "name": "stdout",
     "output_type": "stream",
     "text": [
      "+------------------+-------------+\n",
      "|             delay|UniqueCarrier|\n",
      "+------------------+-------------+\n",
      "|-2.888673890608875|           AQ|\n",
      "|1.2644089394236424|           HA|\n",
      "|2.8481100056939694|           US|\n",
      "| 4.111134703250211|           9E|\n",
      "| 4.804346362093581|           AS|\n",
      "|  5.17967817300539|           WN|\n",
      "| 6.108246666107523|           F9|\n",
      "| 6.598884736868734|           OO|\n",
      "| 7.368539129929383|           NW|\n",
      "| 7.855163154883384|           DL|\n",
      "+------------------+-------------+\n",
      "\n"
     ]
    }
   ],
   "source": [
    "results.show()"
   ]
  },
  {
   "cell_type": "code",
   "execution_count": null,
   "metadata": {},
   "outputs": [],
   "source": [
    "sqlContext.sql(\"select avg(ArrDelay) as delay, UniqueCarrier \\\n",
    "from airline \\\n",
    "group by UniqueCarrier \\\n",
    "order by delay DESC \\\n",
    "limit 10\").show()"
   ]
  },
  {
   "cell_type": "code",
   "execution_count": null,
   "metadata": {},
   "outputs": [],
   "source": []
  }
 ],
 "metadata": {
  "kernelspec": {
   "display_name": "PySpark",
   "language": "python",
   "name": "pyspark"
  },
  "language_info": {
   "codemirror_mode": {
    "name": "ipython",
    "version": 3
   },
   "file_extension": ".py",
   "mimetype": "text/x-python",
   "name": "python",
   "nbconvert_exporter": "python",
   "pygments_lexer": "ipython3",
   "version": "3.7.3"
  }
 },
 "nbformat": 4,
 "nbformat_minor": 4
}
